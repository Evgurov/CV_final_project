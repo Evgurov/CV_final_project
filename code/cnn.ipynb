{
 "cells": [
  {
   "cell_type": "code",
   "execution_count": 1,
   "id": "b_lAjylghmA3",
   "metadata": {
    "id": "b_lAjylghmA3"
   },
   "outputs": [],
   "source": [
    "import torch \n",
    "from torch import nn\n",
    "\n",
    "import os\n",
    "import pandas as pd\n",
    "from torch.utils.data import Dataset, Subset\n",
    "from tqdm import tqdm\n",
    "import h5py\n",
    "import torch.nn.functional as F\n",
    "import numpy as np\n",
    "from torchvision import transforms"
   ]
  },
  {
   "cell_type": "code",
   "execution_count": 36,
   "id": "c49d1bdc",
   "metadata": {
    "id": "c49d1bdc"
   },
   "outputs": [],
   "source": [
    "gamma_f= h5py.File(\"piplus.hdf5\", 'r') "
   ]
  },
  {
   "cell_type": "code",
   "execution_count": 3,
   "id": "ODfrU8PhdYaQ",
   "metadata": {
    "id": "ODfrU8PhdYaQ"
   },
   "outputs": [],
   "source": [
    "energy = gamma_f['energy'][:]\n",
    "layer_0 = gamma_f['layer_0'][:]\n",
    "layer_1 = gamma_f['layer_1'][:]\n",
    "layer_2 = gamma_f['layer_2'][:]\n",
    "overflow = gamma_f['overflow'][:]"
   ]
  },
  {
   "cell_type": "code",
   "execution_count": 4,
   "id": "b9acb809",
   "metadata": {
    "id": "b9acb809"
   },
   "outputs": [],
   "source": [
    "eplus_f = h5py.File(\"eplus.hdf5\", 'r') "
   ]
  },
  {
   "cell_type": "code",
   "execution_count": 5,
   "id": "03a8b69e",
   "metadata": {
    "id": "03a8b69e"
   },
   "outputs": [],
   "source": [
    "energy_ep = eplus_f['energy'][:]\n",
    "layer_0_ep = eplus_f['layer_0'][:]\n",
    "layer_1_ep = eplus_f['layer_1'][:]\n",
    "layer_2_ep = eplus_f['layer_2'][:]\n",
    "overflow_ep = eplus_f['overflow'][:]"
   ]
  },
  {
   "cell_type": "code",
   "execution_count": 120,
   "id": "Zc7LO08Yn15q",
   "metadata": {
    "id": "Zc7LO08Yn15q"
   },
   "outputs": [],
   "source": [
    "trans = transforms.Compose([\n",
    "    transforms.ToTensor(),\n",
    "    # transforms.CenterCrop(6),\n",
    "    transforms.Normalize((0.0), (1.0)),]\n",
    ")"
   ]
  },
  {
   "cell_type": "code",
   "execution_count": 121,
   "id": "4966a031",
   "metadata": {
    "id": "4966a031"
   },
   "outputs": [],
   "source": [
    "class CustomImageDataset(Dataset):\n",
    "    def __init__(self, labels, layer_0, layer_1,layer_02):\n",
    "        self.labels = labels\n",
    "        self.layer_0 = layer_0 \n",
    "        self.layer_1 = layer_1\n",
    "        self.layer_2 = layer_2\n",
    "        \n",
    "    def __len__(self):\n",
    "        return len(self.labels)\n",
    "    \n",
    "    def __getitem__(self, idx):\n",
    "        image1 = layer_0[idx]\n",
    "        image2 = layer_1[idx]\n",
    "        # mu, std = np.mean(layer_2[idx]), np.std(layer_2[idx])\n",
    "        # image3 = (layer_2[idx] - mu) / std\n",
    "        image3 = trans(layer_2[idx])\n",
    "        label = self.labels[idx]\n",
    "        return (image1,image2,image3), label"
   ]
  },
  {
   "cell_type": "code",
   "execution_count": 122,
   "id": "d53f48d7",
   "metadata": {
    "id": "d53f48d7"
   },
   "outputs": [],
   "source": [
    "dataset_gamma = CustomImageDataset(np.ones(100000),layer_0,layer_1,layer_2)\n",
    "dataset_ep = CustomImageDataset(np.zeros(100000),layer_0_ep,layer_1_ep,layer_2_ep)\n",
    "total_data = torch.utils.data.ConcatDataset([dataset_gamma, dataset_ep])"
   ]
  },
  {
   "cell_type": "code",
   "execution_count": 123,
   "id": "4b9e8653",
   "metadata": {
    "id": "4b9e8653"
   },
   "outputs": [],
   "source": [
    "N = len(total_data)\n",
    "\n",
    "# generate & shuffle indices\n",
    "indices = np.arange(N)\n",
    "indices = np.random.permutation(indices)\n",
    "# there are many ways to do the above two operation. (Example, using np.random.choice can be used here too\n",
    "\n",
    "# select train/test/val, for demo I am using 70,15,15\n",
    "train_indices = indices [:int(0.7*N)]\n",
    "val_indices = indices[int(0.7*N):int(0.85*N)]\n",
    "test_indices = indices[int(0.85*N):]\n",
    "\n",
    "train_dataset = Subset(total_data, train_indices)\n",
    "val_dataset = Subset(total_data, val_indices)\n",
    "test_dataset = Subset(total_data, test_indices)"
   ]
  },
  {
   "cell_type": "code",
   "execution_count": 145,
   "id": "8a5eb839-2d0e-40d3-b898-2b51ee217098",
   "metadata": {},
   "outputs": [],
   "source": [
    "global batch_size\n",
    "batch_size = 16"
   ]
  },
  {
   "cell_type": "code",
   "execution_count": 146,
   "id": "82f3dcf7",
   "metadata": {
    "id": "82f3dcf7"
   },
   "outputs": [],
   "source": [
    "class Net(nn.Module):\n",
    "    def __init__(self):\n",
    "        super().__init__()\n",
    "        self.conv1 = nn.Conv2d(1, 8, 3, padding=1)\n",
    "        self.conv2 = nn.Conv2d(8, 16, 3, padding=1, stride=2)\n",
    "        self.bn1   = nn.BatchNorm2d(16)\n",
    "        self.conv3 = nn.Conv2d(16, 32, 3, padding=1)\n",
    "        self.conv4 = nn.Conv2d(32, 64, 3, padding=1, stride=2)\n",
    "        self.bn2   = nn.BatchNorm2d(64)\n",
    "        \n",
    "        self.fc1 = nn.Linear(384, 64)\n",
    "        self.fc2 = nn.Linear(64, 1)\n",
    "        \n",
    "\n",
    "    def forward(self, x, y, z):\n",
    "        z = z.reshape(batch_size, 1, 12, 6)\n",
    "        z = F.leaky_relu(self.conv1(z))\n",
    "        z = self.bn1(F.leaky_relu(self.conv2(z)))\n",
    "        # print(z.shape)\n",
    "        z = F.leaky_relu(self.conv3(z))\n",
    "        # print(z.shape)\n",
    "        z = self.bn2(F.leaky_relu(self.conv4(z)))\n",
    "        \n",
    "        z = z.flatten(start_dim=1)\n",
    "        \n",
    "        z = F.leaky_relu(self.fc1(z))\n",
    "        z = F.leaky_relu(self.fc2(z))\n",
    "        return z#F.log_softmax(z, dim=-1)"
   ]
  },
  {
   "cell_type": "code",
   "execution_count": 147,
   "id": "63e14053",
   "metadata": {
    "id": "63e14053"
   },
   "outputs": [],
   "source": [
    "heh = Net()"
   ]
  },
  {
   "cell_type": "code",
   "execution_count": 148,
   "id": "1ad26512",
   "metadata": {
    "id": "1ad26512"
   },
   "outputs": [],
   "source": [
    "from torch.utils.data import DataLoader"
   ]
  },
  {
   "cell_type": "code",
   "execution_count": 149,
   "id": "6ea6aac2",
   "metadata": {
    "id": "6ea6aac2"
   },
   "outputs": [],
   "source": [
    "dataloaders = {'train':DataLoader(train_dataset, batch_size=batch_size, shuffle=True),\n",
    "               'val':DataLoader(val_dataset, batch_size=batch_size, shuffle=True),\n",
    "               'test':DataLoader(test_dataset, batch_size=batch_size, shuffle=True)}"
   ]
  },
  {
   "cell_type": "code",
   "execution_count": 150,
   "id": "bfc6c93f",
   "metadata": {
    "id": "bfc6c93f"
   },
   "outputs": [],
   "source": [
    "loss_fn = nn.BCEWithLogitsLoss()"
   ]
  },
  {
   "cell_type": "code",
   "execution_count": 151,
   "id": "9be14d78",
   "metadata": {
    "id": "9be14d78"
   },
   "outputs": [],
   "source": [
    "optimizer = torch.optim.Adam(heh.parameters(), lr=1e-6)"
   ]
  },
  {
   "cell_type": "code",
   "execution_count": 152,
   "id": "lOeWDhTTIKJv",
   "metadata": {
    "colab": {
     "base_uri": "https://localhost:8080/"
    },
    "id": "lOeWDhTTIKJv",
    "outputId": "29800198-90e6-4805-a23d-17c51db659eb"
   },
   "outputs": [
    {
     "data": {
      "text/plain": [
       "<torch.utils.data.dataloader.DataLoader at 0x2b83927a5d60>"
      ]
     },
     "execution_count": 152,
     "metadata": {},
     "output_type": "execute_result"
    }
   ],
   "source": [
    "dataloaders['train']"
   ]
  },
  {
   "cell_type": "code",
   "execution_count": 153,
   "id": "2dfb406b",
   "metadata": {
    "id": "2dfb406b"
   },
   "outputs": [],
   "source": [
    "def train_one_epoch(epoch_index):\n",
    "    running_loss = 0.\n",
    "    last_loss = 0.\n",
    "    pbar = tqdm(enumerate(dataloaders['train']))\n",
    "    \n",
    "    for i, (data,labels) in pbar:\n",
    "        \n",
    "        data0,data1,data2 = data\n",
    "        \n",
    "        optimizer.zero_grad()\n",
    "        \n",
    "        outputs = heh(data0.float(),data1.float(),data2.float())\n",
    "        \n",
    "        loss = loss_fn(outputs.float().squeeze(), labels.float())\n",
    "        loss.backward()\n",
    "        \n",
    "        optimizer.step()\n",
    "        \n",
    "        if i % 100 == 99:\n",
    "            pbar.set_description('batch {} loss: {}'.format(i + 1, loss))\n",
    "\n",
    "    return last_loss"
   ]
  },
  {
   "cell_type": "code",
   "execution_count": 154,
   "id": "e2e6f82f",
   "metadata": {
    "id": "e2e6f82f"
   },
   "outputs": [],
   "source": [
    "train_loss = []\n",
    "val_loss = []"
   ]
  },
  {
   "cell_type": "markdown",
   "id": "99976592-9e0f-4b7e-a4ea-269a55be8e14",
   "metadata": {},
   "source": [
    "## Basically it ain't training"
   ]
  },
  {
   "cell_type": "code",
   "execution_count": null,
   "id": "8f82e5a9",
   "metadata": {
    "colab": {
     "base_uri": "https://localhost:8080/",
     "height": 433
    },
    "id": "8f82e5a9",
    "outputId": "7ec761da-0561-45eb-f8cd-204b045e78a0"
   },
   "outputs": [
    {
     "name": "stdout",
     "output_type": "stream",
     "text": [
      "EPOCH 1:\n"
     ]
    },
    {
     "name": "stderr",
     "output_type": "stream",
     "text": [
      "batch 8700 loss: 0.692940354347229: : 8750it [00:31, 274.58it/s] \n"
     ]
    },
    {
     "name": "stdout",
     "output_type": "stream",
     "text": [
      "LOSS train 0.0 valid 0.6931793689727783\n",
      "EPOCH 2:\n"
     ]
    },
    {
     "name": "stderr",
     "output_type": "stream",
     "text": [
      "batch 8700 loss: 0.7041585445404053: : 8750it [02:38, 55.18it/s] \n"
     ]
    },
    {
     "name": "stdout",
     "output_type": "stream",
     "text": [
      "LOSS train 0.0 valid 0.6931775212287903\n",
      "EPOCH 3:\n"
     ]
    },
    {
     "name": "stderr",
     "output_type": "stream",
     "text": [
      "batch 8700 loss: 0.6926264762878418: : 8750it [02:07, 68.41it/s] \n"
     ]
    },
    {
     "name": "stdout",
     "output_type": "stream",
     "text": [
      "LOSS train 0.0 valid 0.6931548118591309\n",
      "EPOCH 4:\n"
     ]
    },
    {
     "name": "stderr",
     "output_type": "stream",
     "text": [
      "batch 8700 loss: 0.6928288340568542: : 8750it [03:05, 47.07it/s] \n"
     ]
    },
    {
     "name": "stdout",
     "output_type": "stream",
     "text": [
      "LOSS train 0.0 valid 0.6931663155555725\n",
      "EPOCH 5:\n"
     ]
    },
    {
     "name": "stderr",
     "output_type": "stream",
     "text": [
      "batch 8700 loss: 0.6933724880218506: : 8750it [00:32, 271.51it/s]\n"
     ]
    },
    {
     "name": "stdout",
     "output_type": "stream",
     "text": [
      "LOSS train 0.0 valid 0.6931530237197876\n",
      "EPOCH 6:\n"
     ]
    },
    {
     "name": "stderr",
     "output_type": "stream",
     "text": [
      "batch 8700 loss: 0.6929121017456055: : 8750it [01:14, 116.92it/s]\n"
     ]
    },
    {
     "name": "stdout",
     "output_type": "stream",
     "text": [
      "LOSS train 0.0 valid 0.6931483149528503\n",
      "EPOCH 7:\n"
     ]
    },
    {
     "name": "stderr",
     "output_type": "stream",
     "text": [
      "batch 8700 loss: 0.6931965947151184: : 8750it [00:32, 268.11it/s]\n"
     ]
    },
    {
     "name": "stdout",
     "output_type": "stream",
     "text": [
      "LOSS train 0.0 valid 0.6931477189064026\n",
      "EPOCH 8:\n"
     ]
    },
    {
     "name": "stderr",
     "output_type": "stream",
     "text": [
      "batch 8700 loss: 0.693550705909729: : 8750it [00:32, 272.19it/s] \n"
     ]
    },
    {
     "name": "stdout",
     "output_type": "stream",
     "text": [
      "LOSS train 0.0 valid 0.6931504011154175\n",
      "EPOCH 9:\n"
     ]
    },
    {
     "name": "stderr",
     "output_type": "stream",
     "text": [
      "batch 8700 loss: 0.6942173838615417: : 8750it [00:32, 266.65it/s]\n"
     ]
    },
    {
     "name": "stdout",
     "output_type": "stream",
     "text": [
      "LOSS train 0.0 valid 0.6931516528129578\n",
      "EPOCH 10:\n"
     ]
    },
    {
     "name": "stderr",
     "output_type": "stream",
     "text": [
      "batch 8700 loss: 0.6935548186302185: : 8750it [00:32, 269.28it/s]\n"
     ]
    },
    {
     "name": "stdout",
     "output_type": "stream",
     "text": [
      "LOSS train 0.0 valid 0.6931540966033936\n",
      "EPOCH 11:\n"
     ]
    },
    {
     "name": "stderr",
     "output_type": "stream",
     "text": [
      "batch 8700 loss: 0.6929441690444946: : 8750it [00:32, 266.63it/s]\n"
     ]
    },
    {
     "name": "stdout",
     "output_type": "stream",
     "text": [
      "LOSS train 0.0 valid 0.6931512355804443\n",
      "EPOCH 12:\n"
     ]
    },
    {
     "name": "stderr",
     "output_type": "stream",
     "text": [
      "batch 8700 loss: 0.6935296654701233: : 8750it [00:56, 156.11it/s]\n"
     ]
    },
    {
     "name": "stdout",
     "output_type": "stream",
     "text": [
      "LOSS train 0.0 valid 0.6931502819061279\n",
      "EPOCH 13:\n"
     ]
    },
    {
     "name": "stderr",
     "output_type": "stream",
     "text": [
      "batch 8700 loss: 0.6932529807090759: : 8750it [00:32, 270.39it/s]\n"
     ]
    },
    {
     "name": "stdout",
     "output_type": "stream",
     "text": [
      "LOSS train 0.0 valid 0.6931516528129578\n",
      "EPOCH 14:\n"
     ]
    },
    {
     "name": "stderr",
     "output_type": "stream",
     "text": [
      "batch 8700 loss: 0.693681538105011: : 8750it [00:32, 270.51it/s] \n"
     ]
    },
    {
     "name": "stdout",
     "output_type": "stream",
     "text": [
      "LOSS train 0.0 valid 0.693147599697113\n",
      "EPOCH 15:\n"
     ]
    },
    {
     "name": "stderr",
     "output_type": "stream",
     "text": [
      "batch 8700 loss: 0.6931645274162292: : 8750it [00:32, 271.46it/s]\n"
     ]
    },
    {
     "name": "stdout",
     "output_type": "stream",
     "text": [
      "LOSS train 0.0 valid 0.6931426525115967\n",
      "EPOCH 16:\n"
     ]
    },
    {
     "name": "stderr",
     "output_type": "stream",
     "text": [
      "batch 8700 loss: 0.6931378841400146: : 8750it [00:32, 266.54it/s]\n"
     ]
    },
    {
     "name": "stdout",
     "output_type": "stream",
     "text": [
      "LOSS train 0.0 valid 0.6931535601615906\n",
      "EPOCH 17:\n"
     ]
    },
    {
     "name": "stderr",
     "output_type": "stream",
     "text": [
      "batch 8700 loss: 0.6928552985191345: : 8750it [00:37, 234.37it/s]\n"
     ]
    },
    {
     "name": "stdout",
     "output_type": "stream",
     "text": [
      "LOSS train 0.0 valid 0.6931341290473938\n",
      "EPOCH 18:\n"
     ]
    },
    {
     "name": "stderr",
     "output_type": "stream",
     "text": [
      "batch 8700 loss: 0.6846450567245483: : 8750it [01:06, 131.48it/s]\n"
     ]
    },
    {
     "name": "stdout",
     "output_type": "stream",
     "text": [
      "LOSS train 0.0 valid 0.6931790113449097\n",
      "EPOCH 19:\n"
     ]
    },
    {
     "name": "stderr",
     "output_type": "stream",
     "text": [
      "batch 8700 loss: 0.6934871673583984: : 8750it [04:13, 34.47it/s]\n"
     ]
    },
    {
     "name": "stdout",
     "output_type": "stream",
     "text": [
      "LOSS train 0.0 valid 0.6931484937667847\n",
      "EPOCH 20:\n"
     ]
    },
    {
     "name": "stderr",
     "output_type": "stream",
     "text": [
      "batch 1600 loss: 0.6934977769851685: : 1652it [00:48, 34.04it/s]"
     ]
    }
   ],
   "source": [
    "EPOCHS = 30\n",
    "epoch_number = 0\n",
    "\n",
    "best_vloss = 1_00000_000.\n",
    "\n",
    "for epoch in range(EPOCHS):\n",
    "    print('EPOCH {}:'.format(epoch_number + 1))\n",
    "\n",
    "    # Make sure gradient tracking is on, and do a pass over the data\n",
    "    heh.train(True)\n",
    "    avg_loss = train_one_epoch(epoch_number)\n",
    "    train_loss.append(avg_loss)\n",
    "    # We don't need gradients on to do reporting\n",
    "    heh.train(False)\n",
    "\n",
    "    running_vloss = 0.0\n",
    "    for i, (vdata,vlabels) in enumerate(dataloaders['val']):\n",
    "        vdata0,vdata1,vdata2 = vdata\n",
    "        voutputs = heh(vdata0.float(),vdata1.float(),vdata2.float())\n",
    "        vloss = loss_fn(voutputs.float().squeeze(), vlabels.float())\n",
    "        running_vloss += vloss\n",
    "\n",
    "    avg_vloss = running_vloss / (i + 1)\n",
    "    val_loss.append(avg_vloss)\n",
    "    print('LOSS train {} valid {}'.format(avg_loss, avg_vloss))\n",
    "\n",
    "    # Log the running loss averaged per batch\n",
    "    # for both training and validation\n",
    "\n",
    "\n",
    "    # Track best performance, and save the model's state\n",
    "#     if avg_vloss < best_vloss:\n",
    "#         best_vloss = avg_vloss\n",
    "#         model_path = 'model_{}_{}'.format(timestamp, epoch_number)\n",
    "#         torch.save(heh.state_dict(), model_path)\n",
    "\n",
    "    epoch_number += 1"
   ]
  },
  {
   "cell_type": "code",
   "execution_count": null,
   "id": "d8c99660",
   "metadata": {
    "colab": {
     "base_uri": "https://localhost:8080/",
     "height": 415
    },
    "id": "d8c99660",
    "outputId": "ce94dbd5-af58-473a-f53b-0ca6ba526964"
   },
   "outputs": [],
   "source": [
    "predicts = []\n",
    "real = []\n",
    "for i, (vdata,vlabels) in enumerate(dataloaders['test']):\n",
    "        vdata0,vdata1,vdata2 = vdata\n",
    "        voutputs = heh(vdata0.float(),vdata1.float(),vdata2.float())\n",
    "        vloss = loss_fn(voutputs.squeeze(), vlabels)\n",
    "        pred = voutputs > 0.5\n",
    "        pred = 1 * pred\n",
    "        running_vloss += vloss\n",
    "        for i in pred:\n",
    "            predicts.append(i.item())\n",
    "        for i in vlabels:\n",
    "            real.append(i.item())\n",
    "\n",
    "from sklearn.metrics import accuracy_score"
   ]
  },
  {
   "cell_type": "code",
   "execution_count": null,
   "id": "502489d8",
   "metadata": {
    "id": "502489d8",
    "outputId": "1418dca9-4063-43f5-c5f9-d78319d8a020"
   },
   "outputs": [],
   "source": [
    "print(accuracy_score(real,predicts))"
   ]
  },
  {
   "cell_type": "code",
   "execution_count": 160,
   "id": "0b44b784",
   "metadata": {
    "id": "0b44b784"
   },
   "outputs": [],
   "source": [
    "import matplotlib.pyplot as plt"
   ]
  },
  {
   "cell_type": "code",
   "execution_count": 161,
   "id": "83335f3b",
   "metadata": {
    "id": "83335f3b",
    "outputId": "c1e1984a-a935-4edb-dd87-b655bf8c78f6"
   },
   "outputs": [
    {
     "data": {
      "text/plain": [
       "[<matplotlib.lines.Line2D at 0x2b840b8ef6d0>]"
      ]
     },
     "execution_count": 161,
     "metadata": {},
     "output_type": "execute_result"
    },
    {
     "data": {
      "image/png": "[encoded data removed]",
      "text/plain": [
       "<Figure size 640x480 with 1 Axes>"
      ]
     },
     "metadata": {},
     "output_type": "display_data"
    }
   ],
   "source": [
    "plt.plot(train_loss)\n",
    "plt.plot([i.item() for i in val_loss])"
   ]
  },
  {
   "cell_type": "code",
   "execution_count": null,
   "id": "9ef2e9bb",
   "metadata": {
    "id": "9ef2e9bb"
   },
   "outputs": [],
   "source": []
  },
  {
   "cell_type": "code",
   "execution_count": null,
   "id": "612a9af2",
   "metadata": {
    "id": "612a9af2"
   },
   "outputs": [],
   "source": []
  }
 ],
 "metadata": {
  "accelerator": "GPU",
  "colab": {
   "collapsed_sections": [],
   "provenance": []
  },
  "gpuClass": "standard",
  "kernelspec": {
   "display_name": "Python [.conda-env_gpu]",
   "language": "python",
   "name": "conda-env-.conda-env_gpu-py"
  },
  "language_info": {
   "codemirror_mode": {
    "name": "ipython",
    "version": 3
   },
   "file_extension": ".py",
   "mimetype": "text/x-python",
   "name": "python",
   "nbconvert_exporter": "python",
   "pygments_lexer": "ipython3",
   "version": "3.9.13"
  }
 },
 "nbformat": 4,
 "nbformat_minor": 5
}
