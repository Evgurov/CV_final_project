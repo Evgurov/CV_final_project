{
  "cells": [
    {
      "cell_type": "code",
      "execution_count": 1,
      "metadata": {
        "id": "Tykp8yvHBBYG"
      },
      "outputs": [],
      "source": [
        "import h5py\n",
        "import zipfile \n",
        "import cv2 as cv\n",
        "import random\n",
        "import numpy as np\n",
        "import matplotlib.pyplot as plt"
      ]
    },
    {
      "cell_type": "code",
      "source": [
        "from sklearn.model_selection import train_test_split\n",
        "from sklearn.metrics import accuracy_score, roc_auc_score, confusion_matrix"
      ],
      "metadata": {
        "id": "IYn9thwWdV6w"
      },
      "execution_count": 2,
      "outputs": []
    },
    {
      "cell_type": "code",
      "source": [
        "from google.colab import drive\n",
        "drive.mount('/content/drive')"
      ],
      "metadata": {
        "colab": {
          "base_uri": "https://localhost:8080/"
        },
        "id": "XLE3CfFsEO29",
        "outputId": "edb3ce02-08c8-48c5-aa2d-586095a1a90d"
      },
      "execution_count": 3,
      "outputs": [
        {
          "output_type": "stream",
          "name": "stdout",
          "text": [
            "Mounted at /content/drive\n"
          ]
        }
      ]
    },
    {
      "cell_type": "markdown",
      "source": [
        "## Download data"
      ],
      "metadata": {
        "id": "QKrUxW8I1QcH"
      }
    },
    {
      "cell_type": "code",
      "source": [
        "import zipfile\n",
        "\n",
        "with zipfile.ZipFile('./drive/MyDrive/calo.zip', 'r') as zip_ref:\n",
        "  zip_ref.extractall('./')"
      ],
      "metadata": {
        "id": "_PnNIQtPHtSh"
      },
      "execution_count": 4,
      "outputs": []
    },
    {
      "cell_type": "code",
      "source": [
        "positron_data = h5py.File('./calo/eplus.hdf5', 'r')\n",
        "pos_group_key = list(positron_data.keys())[3]\n",
        "positron_second_layer_data = list(positron_data[pos_group_key])"
      ],
      "metadata": {
        "id": "e_dWQfwbHq9C"
      },
      "execution_count": 5,
      "outputs": []
    },
    {
      "cell_type": "code",
      "execution_count": 6,
      "metadata": {
        "id": "xLLdspvYBBYK"
      },
      "outputs": [],
      "source": [
        "pion_data = h5py.File('./calo/piplus.hdf5', 'r')\n",
        "pion_group_key = list(pion_data.keys())[3]\n",
        "pion_second_layer_data = list(pion_data[pos_group_key])"
      ]
    },
    {
      "cell_type": "markdown",
      "source": [
        "## Observe data"
      ],
      "metadata": {
        "id": "qhfASQaE1ViX"
      }
    },
    {
      "cell_type": "code",
      "source": [
        "len(positron_second_layer_data)"
      ],
      "metadata": {
        "colab": {
          "base_uri": "https://localhost:8080/"
        },
        "id": "scLVctpJGVCQ",
        "outputId": "9512726a-59a2-413d-cf49-d7c1a22fbfb9"
      },
      "execution_count": 7,
      "outputs": [
        {
          "output_type": "execute_result",
          "data": {
            "text/plain": [
              "100000"
            ]
          },
          "metadata": {},
          "execution_count": 7
        }
      ]
    },
    {
      "cell_type": "code",
      "source": [
        "len(pion_second_layer_data)"
      ],
      "metadata": {
        "colab": {
          "base_uri": "https://localhost:8080/"
        },
        "id": "YdoHW2CeGaxG",
        "outputId": "c6e43660-5b1f-4f8d-c060-2cc762916c6d"
      },
      "execution_count": 8,
      "outputs": [
        {
          "output_type": "execute_result",
          "data": {
            "text/plain": [
              "100000"
            ]
          },
          "metadata": {},
          "execution_count": 8
        }
      ]
    },
    {
      "cell_type": "code",
      "source": [
        "positron_second_layer_data[0]"
      ],
      "metadata": {
        "colab": {
          "base_uri": "https://localhost:8080/"
        },
        "id": "H_Z1z7-qssom",
        "outputId": "b9599a73-b6d8-4157-f1ac-2e6567aa4285"
      },
      "execution_count": 9,
      "outputs": [
        {
          "output_type": "execute_result",
          "data": {
            "text/plain": [
              "array([[0.        , 0.        , 0.        , 0.        , 0.        ,\n",
              "        0.        ],\n",
              "       [0.        , 0.        , 0.        , 0.        , 0.        ,\n",
              "        0.        ],\n",
              "       [0.        , 0.        , 0.        , 1.78315792, 0.        ,\n",
              "        0.        ],\n",
              "       [0.        , 0.82805987, 0.        , 0.3559833 , 0.        ,\n",
              "        0.        ],\n",
              "       [0.        , 0.36701843, 0.9486245 , 5.52563904, 4.96058018,\n",
              "        0.        ],\n",
              "       [0.        , 0.51099891, 3.75894563, 5.65895993, 2.23624359,\n",
              "        0.        ],\n",
              "       [2.43694855, 0.        , 0.54972165, 7.96625306, 1.57433178,\n",
              "        1.4580423 ],\n",
              "       [0.        , 1.8229943 , 6.78788657, 1.19695026, 0.        ,\n",
              "        0.        ],\n",
              "       [0.49139271, 0.11455069, 4.52358156, 7.246226  , 6.68257787,\n",
              "        0.        ],\n",
              "       [0.        , 0.        , 0.        , 0.88070482, 0.        ,\n",
              "        1.64540192],\n",
              "       [0.        , 0.        , 0.        , 1.57348787, 0.        ,\n",
              "        0.        ],\n",
              "       [0.        , 0.        , 0.        , 0.25608249, 0.        ,\n",
              "        0.        ]])"
            ]
          },
          "metadata": {},
          "execution_count": 9
        }
      ]
    },
    {
      "cell_type": "code",
      "source": [
        "maximums_positron = [0]*len(positron_second_layer_data)\n",
        "for ind, img in enumerate(positron_second_layer_data):\n",
        "  maximums_positron[ind] = img.max()\n",
        "\n",
        "maximums_pion = [0]*len(pion_second_layer_data)\n",
        "for ind, img in enumerate(pion_second_layer_data):\n",
        "  maximums_pion[ind] = img.max()\n",
        "\n",
        "print(max(maximums_positron))\n",
        "print(max(maximums_pion))"
      ],
      "metadata": {
        "colab": {
          "base_uri": "https://localhost:8080/"
        },
        "id": "iA3ZtV8Ys2Vp",
        "outputId": "eba4802e-d42c-493e-c408-a1345de8c8ae"
      },
      "execution_count": 10,
      "outputs": [
        {
          "output_type": "stream",
          "name": "stdout",
          "text": [
            "1402.8536887319758\n",
            "13149.016304413419\n"
          ]
        }
      ]
    },
    {
      "cell_type": "code",
      "source": [
        "plt.figure(figsize=(13, 13))\n",
        "plt.tight_layout()\n",
        "plt.subplot(2,4,1)\n",
        "plt.imshow(positron_second_layer_data[0])\n",
        "plt.axis('off') \n",
        "plt.subplot(2,4,2)\n",
        "plt.imshow(positron_second_layer_data[1])\n",
        "plt.axis('off') \n",
        "plt.subplot(2,4,3)\n",
        "plt.imshow(positron_second_layer_data[2])\n",
        "plt.axis('off') \n",
        "plt.subplot(2,4,4)\n",
        "plt.imshow(positron_second_layer_data[3])\n",
        "plt.axis('off') \n",
        "\n",
        "plt.subplot(2,4,5)\n",
        "plt.imshow(pion_second_layer_data[0])\n",
        "plt.axis('off') \n",
        "plt.subplot(2,4,6)\n",
        "plt.imshow(pion_second_layer_data[1])\n",
        "plt.axis('off') \n",
        "plt.subplot(2,4,7)\n",
        "plt.imshow(pion_second_layer_data[2])\n",
        "plt.axis('off') \n",
        "plt.subplot(2,4,8)\n",
        "plt.imshow(pion_second_layer_data[3])\n",
        "plt.axis('off') "
      ],
      "metadata": {
        "colab": {
          "base_uri": "https://localhost:8080/",
          "height": 749
        },
        "id": "4onDzlFUsZrf",
        "outputId": "209dfe8d-fa43-40fb-ef10-7991d42f06ea"
      },
      "execution_count": 11,
      "outputs": [
        {
          "output_type": "execute_result",
          "data": {
            "text/plain": [
              "(-0.5, 5.5, 11.5, -0.5)"
            ]
          },
          "metadata": {},
          "execution_count": 11
        },
        {
          "output_type": "display_data",
          "data": {
            "text/plain": [
              "<Figure size 936x936 with 8 Axes>"
            ],
            "image/png": "[encoded data removed]"
          },
          "metadata": {
            "needs_background": "light"
          }
        }
      ]
    },
    {
      "cell_type": "code",
      "source": [
        "def outer_sum(img):\n",
        "  img_masked = img.copy()\n",
        "  img_masked[5:7, 2:4] = 0\n",
        "\n",
        "  return np.sum(img_masked)"
      ],
      "metadata": {
        "id": "2ld3w10F0pXQ"
      },
      "execution_count": 12,
      "outputs": []
    },
    {
      "cell_type": "code",
      "source": [
        "outer_sums_positron = [0]*len(positron_second_layer_data)\n",
        "for ind, img in enumerate(positron_second_layer_data):\n",
        "  outer_sums_positron[ind] = outer_sum(img)\n",
        "\n",
        "plt.hist(outer_sums_positron, range = (0,1000), bins = 100);"
      ],
      "metadata": {
        "colab": {
          "base_uri": "https://localhost:8080/",
          "height": 265
        },
        "id": "KkKn7DTF18RA",
        "outputId": "09e26802-83dc-4cef-ff21-4bce266f9753"
      },
      "execution_count": 13,
      "outputs": [
        {
          "output_type": "display_data",
          "data": {
            "text/plain": [
              "<Figure size 432x288 with 1 Axes>"
            ],
            "image/png": "[encoded data removed]"
          },
          "metadata": {
            "needs_background": "light"
          }
        }
      ]
    },
    {
      "cell_type": "code",
      "source": [
        "outer_sums_pion = [0]*len(pion_second_layer_data)\n",
        "for ind, img in enumerate(pion_second_layer_data):\n",
        "  outer_sums_pion[ind] = outer_sum(img)\n",
        "\n",
        "plt.hist(outer_sums_pion, range = (0,1000), bins = 100);\n",
        "ax = plt.gca()"
      ],
      "metadata": {
        "colab": {
          "base_uri": "https://localhost:8080/",
          "height": 265
        },
        "id": "oIVtRE393XNE",
        "outputId": "3880eb6d-41c2-41d1-aba7-66659457f02c"
      },
      "execution_count": 14,
      "outputs": [
        {
          "output_type": "display_data",
          "data": {
            "text/plain": [
              "<Figure size 432x288 with 1 Axes>"
            ],
            "image/png": "[encoded data removed]"
          },
          "metadata": {
            "needs_background": "light"
          }
        }
      ]
    },
    {
      "cell_type": "code",
      "source": [
        "def nonzero_outer_elements(img):\n",
        "  img_masked = img.copy()\n",
        "  img_masked[5:7, 2:4] = 0\n",
        "\n",
        "  return np.sum(img_masked != 0)"
      ],
      "metadata": {
        "id": "Td_ukC4lHuNG"
      },
      "execution_count": 15,
      "outputs": []
    },
    {
      "cell_type": "code",
      "source": [
        "outer_nonzero_positron = [0]*len(positron_second_layer_data)\n",
        "for ind, img in enumerate(positron_second_layer_data):\n",
        "  outer_nonzero_positron[ind] = nonzero_outer_elements(img)\n",
        "\n",
        "plt.figure(figsize = (10,10))\n",
        "plt.hist(outer_nonzero_positron, range = (0,20), bins = 20);\n",
        "plt.xlabel(\"number of pixels outside central square\", fontsize = 17)\n",
        "plt.ylabel(\"number of images\", fontsize = 17)\n",
        "plt.title(\"Positron\", fontsize = 20)"
      ],
      "metadata": {
        "colab": {
          "base_uri": "https://localhost:8080/",
          "height": 652
        },
        "id": "KdzahwvHJOhN",
        "outputId": "6844e74a-5dba-4ecc-8154-b571162908d7"
      },
      "execution_count": 23,
      "outputs": [
        {
          "output_type": "execute_result",
          "data": {
            "text/plain": [
              "Text(0.5, 1.0, 'Positron')"
            ]
          },
          "metadata": {},
          "execution_count": 23
        },
        {
          "output_type": "display_data",
          "data": {
            "text/plain": [
              "<Figure size 720x720 with 1 Axes>"
            ],
            "image/png": "[encoded data removed]"
          },
          "metadata": {
            "needs_background": "light"
          }
        }
      ]
    },
    {
      "cell_type": "code",
      "source": [
        "outer_nonzero_pion = [0]*len(pion_second_layer_data)\n",
        "for ind, img in enumerate(pion_second_layer_data):\n",
        "  outer_nonzero_pion[ind] = nonzero_outer_elements(img)\n",
        "\n",
        "plt.figure(figsize = (10,10))\n",
        "plt.hist(outer_nonzero_pion, range = (0,20), bins = 20);\n",
        "plt.xlabel(\"number of pixels outside central square\", fontsize=17)\n",
        "plt.ylabel(\"number of images\", fontsize = 17)\n",
        "plt.title(\"Pion\", fontsize = 20)"
      ],
      "metadata": {
        "colab": {
          "base_uri": "https://localhost:8080/",
          "height": 652
        },
        "id": "EAD0YlnlJ_IG",
        "outputId": "4db5f9b1-d5d1-41d4-9745-55d695f80deb"
      },
      "execution_count": 25,
      "outputs": [
        {
          "output_type": "execute_result",
          "data": {
            "text/plain": [
              "Text(0.5, 1.0, 'Pion')"
            ]
          },
          "metadata": {},
          "execution_count": 25
        },
        {
          "output_type": "display_data",
          "data": {
            "text/plain": [
              "<Figure size 720x720 with 1 Axes>"
            ],
            "image/png": "[encoded data removed]"
          },
          "metadata": {
            "needs_background": "light"
          }
        }
      ]
    },
    {
      "cell_type": "markdown",
      "source": [
        "## Converting to [0,255]"
      ],
      "metadata": {
        "id": "aHt3jjzw1AIT"
      }
    },
    {
      "cell_type": "code",
      "source": [
        "def to_img(h5_img):\n",
        "  img = h5_img\n",
        "  np.clip(img, 0, 8000, out = img)\n",
        "  img *= 255\n",
        "  img /= 8000\n",
        "\n",
        "  return img"
      ],
      "metadata": {
        "id": "9ow-idJDfi9t"
      },
      "execution_count": 27,
      "outputs": []
    },
    {
      "cell_type": "code",
      "source": [
        "def data_to_imgs(data):\n",
        "  data_imgs = [None]*len(data)\n",
        "  for ind, h5_img in enumerate(data):\n",
        "    data_imgs[ind] = to_img(h5_img)\n",
        "\n",
        "  return data_imgs"
      ],
      "metadata": {
        "id": "ujKOOzcFgh1i"
      },
      "execution_count": 28,
      "outputs": []
    },
    {
      "cell_type": "code",
      "source": [
        "positron_second_layer_imgs = data_to_imgs(positron_second_layer_data)\n",
        "pion_second_layer_imgs = data_to_imgs(pion_second_layer_data)"
      ],
      "metadata": {
        "id": "EN26wCQaiXdi"
      },
      "execution_count": 29,
      "outputs": []
    },
    {
      "cell_type": "code",
      "source": [
        "plt.subplot(1,3,1)\n",
        "plt.imshow(positron_second_layer_imgs[0])\n",
        "plt.subplot(1,3,2)\n",
        "plt.imshow(positron_second_layer_imgs[1])\n",
        "plt.subplot(1,3,3)\n",
        "plt.imshow(positron_second_layer_imgs[2])"
      ],
      "metadata": {
        "colab": {
          "base_uri": "https://localhost:8080/",
          "height": 262
        },
        "id": "JleZXhMpjBAO",
        "outputId": "9e95309f-8712-441d-936f-14f466c66250"
      },
      "execution_count": 30,
      "outputs": [
        {
          "output_type": "execute_result",
          "data": {
            "text/plain": [
              "<matplotlib.image.AxesImage at 0x7f750259e280>"
            ]
          },
          "metadata": {},
          "execution_count": 30
        },
        {
          "output_type": "display_data",
          "data": {
            "text/plain": [
              "<Figure size 432x288 with 3 Axes>"
            ],
            "image/png": "[encoded data removed]"
          },
          "metadata": {
            "needs_background": "light"
          }
        }
      ]
    },
    {
      "cell_type": "code",
      "source": [
        "plt.subplot(1,3,1)\n",
        "plt.imshow(pion_second_layer_imgs[0])\n",
        "plt.subplot(1,3,2)\n",
        "plt.imshow(pion_second_layer_imgs[1])\n",
        "plt.subplot(1,3,3)\n",
        "plt.imshow(pion_second_layer_imgs[2])"
      ],
      "metadata": {
        "colab": {
          "base_uri": "https://localhost:8080/",
          "height": 262
        },
        "id": "z4PssRuBrTsN",
        "outputId": "17c8ff54-5656-499e-8cac-44dd121cd467"
      },
      "execution_count": 31,
      "outputs": [
        {
          "output_type": "execute_result",
          "data": {
            "text/plain": [
              "<matplotlib.image.AxesImage at 0x7f7502dba5e0>"
            ]
          },
          "metadata": {},
          "execution_count": 31
        },
        {
          "output_type": "display_data",
          "data": {
            "text/plain": [
              "<Figure size 432x288 with 3 Axes>"
            ],
            "image/png": "[encoded data removed]"
          },
          "metadata": {
            "needs_background": "light"
          }
        }
      ]
    },
    {
      "cell_type": "markdown",
      "source": [
        "## Train-test split"
      ],
      "metadata": {
        "id": "uK5KtkC11F44"
      }
    },
    {
      "cell_type": "code",
      "source": [
        "positron_tags = [0]*len(positron_second_layer_data)\n",
        "pion_tags = [1]*len(pion_second_layer_data)\n",
        "\n",
        "train_data, test_data, train_tags, test_tags = train_test_split(positron_second_layer_data + pion_second_layer_data, positron_tags + pion_tags, test_size = 0.2, random_state = 42)"
      ],
      "metadata": {
        "id": "tAWzT9Y0UQeu"
      },
      "execution_count": 32,
      "outputs": []
    },
    {
      "cell_type": "markdown",
      "source": [
        "## Evaluation of simple methods"
      ],
      "metadata": {
        "id": "ggwwBnptxS-l"
      }
    },
    {
      "cell_type": "code",
      "source": [
        "def evaluate(classifier):\n",
        "  predictions = [0] * len(test_data)\n",
        "  for ind, img in enumerate(test_data):\n",
        "    predictions[ind] = classifier(img)\n",
        "  accuracy = accuracy_score(test_tags, predictions)\n",
        "  roc_score = roc_auc_score(test_tags, predictions)\n",
        "  conf_matr = confusion_matrix(test_tags, predictions) / len(test_data)\n",
        "\n",
        "  return accuracy, roc_score, conf_matr"
      ],
      "metadata": {
        "id": "WsMF5CmpR3_n"
      },
      "execution_count": 33,
      "outputs": []
    },
    {
      "cell_type": "code",
      "source": [
        "def evaluate_normalized(classifier):\n",
        "  test_data_normalized = data_to_imgs(test_data)\n",
        "  predictions = [0] * len(test_data_normalized)\n",
        "  for ind, img in enumerate(test_data_normalized):\n",
        "    predictions[ind] = classifier(img)\n",
        "  accuracy = accuracy_score(test_tags, predictions)\n",
        "  roc_score = roc_auc_score(test_tags, predictions)\n",
        "  conf_matr = confusion_matrix(test_tags, predictions) / len(test_data)\n",
        "\n",
        "  return accuracy, roc_score, conf_matr"
      ],
      "metadata": {
        "id": "jjAQsSfoQeOg"
      },
      "execution_count": 34,
      "outputs": []
    },
    {
      "cell_type": "code",
      "source": [
        "def base_classifier(img):\n",
        "  return random.choice([0,1])"
      ],
      "metadata": {
        "id": "CYtt5I4UfOMZ"
      },
      "execution_count": 35,
      "outputs": []
    },
    {
      "cell_type": "code",
      "source": [
        "base_accuracy, base_roc, base_conf_matrix = evaluate(base_classifier)\n",
        "print(\"Accuracy:\", base_accuracy, \"\\nRoc:\", base_roc, \"\\nConfusion matrix:\\n\", base_conf_matrix)"
      ],
      "metadata": {
        "colab": {
          "base_uri": "https://localhost:8080/"
        },
        "id": "LWI9MMuxkSuG",
        "outputId": "6d2a2881-868f-453b-fbb2-b0c3196f4cbf"
      },
      "execution_count": 36,
      "outputs": [
        {
          "output_type": "stream",
          "name": "stdout",
          "text": [
            "Accuracy: 0.499875 \n",
            "Roc: 0.49987480748466384 \n",
            "Confusion matrix:\n",
            " [[0.249575 0.25025 ]\n",
            " [0.249875 0.2503  ]]\n"
          ]
        }
      ]
    },
    {
      "cell_type": "code",
      "source": [
        "def outer_sum_classifier(img):\n",
        "  sum = outer_sum(img)\n",
        "\n",
        "  if sum < 10:\n",
        "    return 1\n",
        "  else:\n",
        "    return 0"
      ],
      "metadata": {
        "id": "I9DM2OHsqwSw"
      },
      "execution_count": 37,
      "outputs": []
    },
    {
      "cell_type": "code",
      "source": [
        "outer_sum_accuracy, outer_sum_roc, outer_sum_conf_matrix = evaluate(outer_sum_classifier)\n",
        "print(\"Accuracy:\", outer_sum_accuracy, \"\\nRoc:\", outer_sum_roc, \"\\nConfusion matrix:\\n\", outer_sum_conf_matrix)"
      ],
      "metadata": {
        "colab": {
          "base_uri": "https://localhost:8080/"
        },
        "id": "OFmDUSSEHLii",
        "outputId": "52c55a5e-eba7-4ebd-9b10-bc3dff37f465"
      },
      "execution_count": 38,
      "outputs": [
        {
          "output_type": "stream",
          "name": "stdout",
          "text": [
            "Accuracy: 0.3435 \n",
            "Roc: 0.34338011456406403 \n",
            "Confusion matrix:\n",
            " [[4.25000e-04 4.99400e-01]\n",
            " [1.57100e-01 3.43075e-01]]\n"
          ]
        }
      ]
    },
    {
      "cell_type": "code",
      "source": [
        "def outer_nonzero_classifier(img):\n",
        "  outer_nonzero = nonzero_outer_elements(img)\n",
        "  if outer_nonzero > 1:\n",
        "    return 0\n",
        "  else:\n",
        "    return 1"
      ],
      "metadata": {
        "id": "vTsrYY79IJPN"
      },
      "execution_count": 39,
      "outputs": []
    },
    {
      "cell_type": "code",
      "source": [
        "outer_nonzero_accuracy, outer_nonzero_roc, outer_nonzero_conf_matrix = evaluate(outer_nonzero_classifier)\n",
        "print(\"Accuracy:\", outer_nonzero_accuracy, \"\\nRoc:\", outer_nonzero_roc, \"\\nConfusion matrix:\\n\", outer_nonzero_conf_matrix)"
      ],
      "metadata": {
        "colab": {
          "base_uri": "https://localhost:8080/"
        },
        "id": "pME-1HKNKZzr",
        "outputId": "520a9d0e-a4e0-48c4-f871-b8e58b39c415"
      },
      "execution_count": 40,
      "outputs": [
        {
          "output_type": "stream",
          "name": "stdout",
          "text": [
            "Accuracy: 0.6171 \n",
            "Roc: 0.6172107631083185 \n",
            "Confusion matrix:\n",
            " [[0.466675 0.03315 ]\n",
            " [0.34975  0.150425]]\n"
          ]
        }
      ]
    },
    {
      "cell_type": "markdown",
      "source": [
        "## Catboost"
      ],
      "metadata": {
        "id": "8sTsZpVRl_F3"
      }
    },
    {
      "cell_type": "code",
      "source": [
        "!pip install catboost"
      ],
      "metadata": {
        "colab": {
          "base_uri": "https://localhost:8080/"
        },
        "id": "rXHXIB8uapRW",
        "outputId": "11e5f174-1f02-4eb9-bf12-81320f7b1450"
      },
      "execution_count": 41,
      "outputs": [
        {
          "output_type": "stream",
          "name": "stdout",
          "text": [
            "Looking in indexes: https://pypi.org/simple, https://us-python.pkg.dev/colab-wheels/public/simple/\n",
            "Collecting catboost\n",
            "  Downloading catboost-1.1.1-cp38-none-manylinux1_x86_64.whl (76.6 MB)\n",
            "\u001b[K     |████████████████████████████████| 76.6 MB 1.2 MB/s \n",
            "\u001b[?25hRequirement already satisfied: numpy>=1.16.0 in /usr/local/lib/python3.8/dist-packages (from catboost) (1.21.6)\n",
            "Requirement already satisfied: plotly in /usr/local/lib/python3.8/dist-packages (from catboost) (5.5.0)\n",
            "Requirement already satisfied: scipy in /usr/local/lib/python3.8/dist-packages (from catboost) (1.7.3)\n",
            "Requirement already satisfied: graphviz in /usr/local/lib/python3.8/dist-packages (from catboost) (0.10.1)\n",
            "Requirement already satisfied: matplotlib in /usr/local/lib/python3.8/dist-packages (from catboost) (3.2.2)\n",
            "Requirement already satisfied: pandas>=0.24.0 in /usr/local/lib/python3.8/dist-packages (from catboost) (1.3.5)\n",
            "Requirement already satisfied: six in /usr/local/lib/python3.8/dist-packages (from catboost) (1.15.0)\n",
            "Requirement already satisfied: pytz>=2017.3 in /usr/local/lib/python3.8/dist-packages (from pandas>=0.24.0->catboost) (2022.6)\n",
            "Requirement already satisfied: python-dateutil>=2.7.3 in /usr/local/lib/python3.8/dist-packages (from pandas>=0.24.0->catboost) (2.8.2)\n",
            "Requirement already satisfied: cycler>=0.10 in /usr/local/lib/python3.8/dist-packages (from matplotlib->catboost) (0.11.0)\n",
            "Requirement already satisfied: kiwisolver>=1.0.1 in /usr/local/lib/python3.8/dist-packages (from matplotlib->catboost) (1.4.4)\n",
            "Requirement already satisfied: pyparsing!=2.0.4,!=2.1.2,!=2.1.6,>=2.0.1 in /usr/local/lib/python3.8/dist-packages (from matplotlib->catboost) (3.0.9)\n",
            "Requirement already satisfied: tenacity>=6.2.0 in /usr/local/lib/python3.8/dist-packages (from plotly->catboost) (8.1.0)\n",
            "Installing collected packages: catboost\n",
            "Successfully installed catboost-1.1.1\n"
          ]
        }
      ]
    },
    {
      "cell_type": "code",
      "source": [
        "import catboost as ctb\n",
        "\n",
        "train_size = len(train_data)\n",
        "vectorized_train_data = np.zeros((train_size, 72))\n",
        "\n",
        "for ind, img in enumerate(train_data):\n",
        "  img_vec = img.reshape(1, 72)\n",
        "  vectorized_train_data[ind, :] = img_vec\n",
        "\n",
        "cbc = ctb.CatBoostClassifier()\n",
        "cbc.fit(vectorized_train_data, train_tags, verbose = 1)"
      ],
      "metadata": {
        "colab": {
          "base_uri": "https://localhost:8080/"
        },
        "id": "2AWOHjyNagNo",
        "outputId": "d54ed427-5cf9-4b85-dd99-57ea520523a2"
      },
      "execution_count": 42,
      "outputs": [
        {
          "output_type": "stream",
          "name": "stdout",
          "text": [
            "Learning rate set to 0.089969\n",
            "0:\tlearn: 0.6081042\ttotal: 327ms\tremaining: 5m 26s\n",
            "1:\tlearn: 0.5396022\ttotal: 520ms\tremaining: 4m 19s\n",
            "2:\tlearn: 0.4860972\ttotal: 717ms\tremaining: 3m 58s\n",
            "3:\tlearn: 0.4423636\ttotal: 914ms\tremaining: 3m 47s\n",
            "4:\tlearn: 0.4083796\ttotal: 1.12s\tremaining: 3m 42s\n",
            "5:\tlearn: 0.3797328\ttotal: 1.31s\tremaining: 3m 37s\n",
            "6:\tlearn: 0.3575860\ttotal: 1.52s\tremaining: 3m 35s\n",
            "7:\tlearn: 0.3386788\ttotal: 1.71s\tremaining: 3m 32s\n",
            "8:\tlearn: 0.3210371\ttotal: 1.92s\tremaining: 3m 31s\n",
            "9:\tlearn: 0.3056414\ttotal: 2.16s\tremaining: 3m 33s\n",
            "10:\tlearn: 0.2910424\ttotal: 2.43s\tremaining: 3m 38s\n",
            "11:\tlearn: 0.2794950\ttotal: 2.61s\tremaining: 3m 35s\n",
            "12:\tlearn: 0.2689986\ttotal: 2.81s\tremaining: 3m 33s\n",
            "13:\tlearn: 0.2600986\ttotal: 3.01s\tremaining: 3m 32s\n",
            "14:\tlearn: 0.2499800\ttotal: 3.22s\tremaining: 3m 31s\n",
            "15:\tlearn: 0.2425893\ttotal: 3.49s\tremaining: 3m 34s\n",
            "16:\tlearn: 0.2354320\ttotal: 3.7s\tremaining: 3m 33s\n",
            "17:\tlearn: 0.2290997\ttotal: 3.98s\tremaining: 3m 37s\n",
            "18:\tlearn: 0.2225403\ttotal: 4.21s\tremaining: 3m 37s\n",
            "19:\tlearn: 0.2175385\ttotal: 4.32s\tremaining: 3m 31s\n",
            "20:\tlearn: 0.2120374\ttotal: 4.54s\tremaining: 3m 31s\n",
            "21:\tlearn: 0.2073279\ttotal: 4.78s\tremaining: 3m 32s\n",
            "22:\tlearn: 0.2028671\ttotal: 4.97s\tremaining: 3m 31s\n",
            "23:\tlearn: 0.1986885\ttotal: 5.18s\tremaining: 3m 30s\n",
            "24:\tlearn: 0.1947018\ttotal: 5.44s\tremaining: 3m 32s\n",
            "25:\tlearn: 0.1906999\ttotal: 5.71s\tremaining: 3m 33s\n",
            "26:\tlearn: 0.1872780\ttotal: 5.96s\tremaining: 3m 34s\n",
            "27:\tlearn: 0.1838114\ttotal: 6.18s\tremaining: 3m 34s\n",
            "28:\tlearn: 0.1802389\ttotal: 6.33s\tremaining: 3m 32s\n",
            "29:\tlearn: 0.1771709\ttotal: 6.46s\tremaining: 3m 28s\n",
            "30:\tlearn: 0.1737020\ttotal: 6.62s\tremaining: 3m 26s\n",
            "31:\tlearn: 0.1706818\ttotal: 6.83s\tremaining: 3m 26s\n",
            "32:\tlearn: 0.1682096\ttotal: 7.08s\tremaining: 3m 27s\n",
            "33:\tlearn: 0.1657151\ttotal: 7.27s\tremaining: 3m 26s\n",
            "34:\tlearn: 0.1631978\ttotal: 7.41s\tremaining: 3m 24s\n",
            "35:\tlearn: 0.1609334\ttotal: 7.61s\tremaining: 3m 23s\n",
            "36:\tlearn: 0.1588759\ttotal: 7.84s\tremaining: 3m 24s\n",
            "37:\tlearn: 0.1564100\ttotal: 8.07s\tremaining: 3m 24s\n",
            "38:\tlearn: 0.1542330\ttotal: 8.26s\tremaining: 3m 23s\n",
            "39:\tlearn: 0.1521072\ttotal: 8.48s\tremaining: 3m 23s\n",
            "40:\tlearn: 0.1500582\ttotal: 8.62s\tremaining: 3m 21s\n",
            "41:\tlearn: 0.1484216\ttotal: 8.79s\tremaining: 3m 20s\n",
            "42:\tlearn: 0.1463200\ttotal: 9.02s\tremaining: 3m 20s\n",
            "43:\tlearn: 0.1444374\ttotal: 9.27s\tremaining: 3m 21s\n",
            "44:\tlearn: 0.1427558\ttotal: 9.46s\tremaining: 3m 20s\n",
            "45:\tlearn: 0.1411271\ttotal: 9.68s\tremaining: 3m 20s\n",
            "46:\tlearn: 0.1395571\ttotal: 9.9s\tremaining: 3m 20s\n",
            "47:\tlearn: 0.1381509\ttotal: 10.1s\tremaining: 3m 20s\n",
            "48:\tlearn: 0.1366377\ttotal: 10.3s\tremaining: 3m 20s\n",
            "49:\tlearn: 0.1349793\ttotal: 10.6s\tremaining: 3m 20s\n",
            "50:\tlearn: 0.1335198\ttotal: 10.8s\tremaining: 3m 20s\n",
            "51:\tlearn: 0.1319937\ttotal: 11s\tremaining: 3m 19s\n",
            "52:\tlearn: 0.1307136\ttotal: 11.2s\tremaining: 3m 20s\n",
            "53:\tlearn: 0.1293395\ttotal: 11.5s\tremaining: 3m 21s\n",
            "54:\tlearn: 0.1282262\ttotal: 11.7s\tremaining: 3m 21s\n",
            "55:\tlearn: 0.1269166\ttotal: 11.9s\tremaining: 3m 21s\n",
            "56:\tlearn: 0.1253737\ttotal: 12.2s\tremaining: 3m 21s\n",
            "57:\tlearn: 0.1240898\ttotal: 12.5s\tremaining: 3m 23s\n",
            "58:\tlearn: 0.1227468\ttotal: 12.8s\tremaining: 3m 23s\n",
            "59:\tlearn: 0.1216083\ttotal: 13s\tremaining: 3m 23s\n",
            "60:\tlearn: 0.1206950\ttotal: 13.3s\tremaining: 3m 24s\n",
            "61:\tlearn: 0.1195357\ttotal: 13.4s\tremaining: 3m 23s\n",
            "62:\tlearn: 0.1186877\ttotal: 13.6s\tremaining: 3m 22s\n",
            "63:\tlearn: 0.1176793\ttotal: 13.8s\tremaining: 3m 22s\n",
            "64:\tlearn: 0.1166263\ttotal: 14s\tremaining: 3m 21s\n",
            "65:\tlearn: 0.1156099\ttotal: 14.3s\tremaining: 3m 21s\n",
            "66:\tlearn: 0.1148385\ttotal: 14.4s\tremaining: 3m 20s\n",
            "67:\tlearn: 0.1138870\ttotal: 14.5s\tremaining: 3m 18s\n",
            "68:\tlearn: 0.1129689\ttotal: 14.6s\tremaining: 3m 16s\n",
            "69:\tlearn: 0.1121138\ttotal: 14.7s\tremaining: 3m 15s\n",
            "70:\tlearn: 0.1111646\ttotal: 14.8s\tremaining: 3m 13s\n",
            "71:\tlearn: 0.1102558\ttotal: 14.9s\tremaining: 3m 11s\n",
            "72:\tlearn: 0.1093328\ttotal: 14.9s\tremaining: 3m 9s\n",
            "73:\tlearn: 0.1084216\ttotal: 15.1s\tremaining: 3m 8s\n",
            "74:\tlearn: 0.1076443\ttotal: 15.1s\tremaining: 3m 6s\n",
            "75:\tlearn: 0.1069231\ttotal: 15.2s\tremaining: 3m 5s\n",
            "76:\tlearn: 0.1060115\ttotal: 15.3s\tremaining: 3m 3s\n",
            "77:\tlearn: 0.1053197\ttotal: 15.4s\tremaining: 3m 2s\n",
            "78:\tlearn: 0.1046241\ttotal: 15.5s\tremaining: 3m\n",
            "79:\tlearn: 0.1039419\ttotal: 15.6s\tremaining: 2m 59s\n",
            "80:\tlearn: 0.1032197\ttotal: 15.7s\tremaining: 2m 58s\n",
            "81:\tlearn: 0.1025825\ttotal: 15.8s\tremaining: 2m 56s\n",
            "82:\tlearn: 0.1018096\ttotal: 15.9s\tremaining: 2m 55s\n",
            "83:\tlearn: 0.1010401\ttotal: 16s\tremaining: 2m 54s\n",
            "84:\tlearn: 0.1004413\ttotal: 16.1s\tremaining: 2m 53s\n",
            "85:\tlearn: 0.0998506\ttotal: 16.2s\tremaining: 2m 52s\n",
            "86:\tlearn: 0.0992567\ttotal: 16.3s\tremaining: 2m 51s\n",
            "87:\tlearn: 0.0985902\ttotal: 16.4s\tremaining: 2m 49s\n",
            "88:\tlearn: 0.0979927\ttotal: 16.5s\tremaining: 2m 48s\n",
            "89:\tlearn: 0.0975172\ttotal: 16.6s\tremaining: 2m 47s\n",
            "90:\tlearn: 0.0970169\ttotal: 16.7s\tremaining: 2m 46s\n",
            "91:\tlearn: 0.0964289\ttotal: 16.8s\tremaining: 2m 45s\n",
            "92:\tlearn: 0.0958572\ttotal: 16.9s\tremaining: 2m 44s\n",
            "93:\tlearn: 0.0951562\ttotal: 17s\tremaining: 2m 43s\n",
            "94:\tlearn: 0.0946550\ttotal: 17.1s\tremaining: 2m 42s\n",
            "95:\tlearn: 0.0942070\ttotal: 17.1s\tremaining: 2m 41s\n",
            "96:\tlearn: 0.0935903\ttotal: 17.3s\tremaining: 2m 40s\n",
            "97:\tlearn: 0.0930026\ttotal: 17.4s\tremaining: 2m 39s\n",
            "98:\tlearn: 0.0924643\ttotal: 17.5s\tremaining: 2m 38s\n",
            "99:\tlearn: 0.0919241\ttotal: 17.6s\tremaining: 2m 38s\n",
            "100:\tlearn: 0.0914091\ttotal: 17.7s\tremaining: 2m 37s\n",
            "101:\tlearn: 0.0908924\ttotal: 17.7s\tremaining: 2m 36s\n",
            "102:\tlearn: 0.0903715\ttotal: 17.8s\tremaining: 2m 35s\n",
            "103:\tlearn: 0.0899266\ttotal: 17.9s\tremaining: 2m 34s\n",
            "104:\tlearn: 0.0894476\ttotal: 18s\tremaining: 2m 33s\n",
            "105:\tlearn: 0.0888974\ttotal: 18.1s\tremaining: 2m 32s\n",
            "106:\tlearn: 0.0884691\ttotal: 18.2s\tremaining: 2m 32s\n",
            "107:\tlearn: 0.0880987\ttotal: 18.3s\tremaining: 2m 31s\n",
            "108:\tlearn: 0.0876828\ttotal: 18.4s\tremaining: 2m 30s\n",
            "109:\tlearn: 0.0873134\ttotal: 18.5s\tremaining: 2m 29s\n",
            "110:\tlearn: 0.0868778\ttotal: 18.6s\tremaining: 2m 28s\n",
            "111:\tlearn: 0.0865671\ttotal: 18.7s\tremaining: 2m 27s\n",
            "112:\tlearn: 0.0862077\ttotal: 18.8s\tremaining: 2m 27s\n",
            "113:\tlearn: 0.0857802\ttotal: 18.8s\tremaining: 2m 26s\n",
            "114:\tlearn: 0.0853681\ttotal: 18.9s\tremaining: 2m 25s\n",
            "115:\tlearn: 0.0848641\ttotal: 19s\tremaining: 2m 24s\n",
            "116:\tlearn: 0.0844438\ttotal: 19.1s\tremaining: 2m 24s\n",
            "117:\tlearn: 0.0839952\ttotal: 19.2s\tremaining: 2m 23s\n",
            "118:\tlearn: 0.0834785\ttotal: 19.3s\tremaining: 2m 22s\n",
            "119:\tlearn: 0.0829807\ttotal: 19.4s\tremaining: 2m 22s\n",
            "120:\tlearn: 0.0826799\ttotal: 19.5s\tremaining: 2m 21s\n",
            "121:\tlearn: 0.0823269\ttotal: 19.6s\tremaining: 2m 20s\n",
            "122:\tlearn: 0.0819503\ttotal: 19.7s\tremaining: 2m 20s\n",
            "123:\tlearn: 0.0816187\ttotal: 19.8s\tremaining: 2m 19s\n",
            "124:\tlearn: 0.0813013\ttotal: 19.8s\tremaining: 2m 18s\n",
            "125:\tlearn: 0.0809701\ttotal: 19.9s\tremaining: 2m 18s\n",
            "126:\tlearn: 0.0805992\ttotal: 20s\tremaining: 2m 17s\n",
            "127:\tlearn: 0.0801959\ttotal: 20.1s\tremaining: 2m 16s\n",
            "128:\tlearn: 0.0798566\ttotal: 20.2s\tremaining: 2m 16s\n",
            "129:\tlearn: 0.0795674\ttotal: 20.3s\tremaining: 2m 15s\n",
            "130:\tlearn: 0.0792267\ttotal: 20.4s\tremaining: 2m 15s\n",
            "131:\tlearn: 0.0788443\ttotal: 20.5s\tremaining: 2m 14s\n",
            "132:\tlearn: 0.0785195\ttotal: 20.6s\tremaining: 2m 14s\n",
            "133:\tlearn: 0.0781861\ttotal: 20.7s\tremaining: 2m 13s\n",
            "134:\tlearn: 0.0778834\ttotal: 20.8s\tremaining: 2m 13s\n",
            "135:\tlearn: 0.0775498\ttotal: 20.9s\tremaining: 2m 12s\n",
            "136:\tlearn: 0.0772443\ttotal: 21s\tremaining: 2m 12s\n",
            "137:\tlearn: 0.0768397\ttotal: 21.1s\tremaining: 2m 11s\n",
            "138:\tlearn: 0.0765405\ttotal: 21.1s\tremaining: 2m 10s\n",
            "139:\tlearn: 0.0762587\ttotal: 21.2s\tremaining: 2m 10s\n",
            "140:\tlearn: 0.0759187\ttotal: 21.4s\tremaining: 2m 10s\n",
            "141:\tlearn: 0.0756381\ttotal: 21.5s\tremaining: 2m 9s\n",
            "142:\tlearn: 0.0752735\ttotal: 21.6s\tremaining: 2m 9s\n",
            "143:\tlearn: 0.0749846\ttotal: 21.7s\tremaining: 2m 8s\n",
            "144:\tlearn: 0.0747145\ttotal: 21.7s\tremaining: 2m 8s\n",
            "145:\tlearn: 0.0744998\ttotal: 21.8s\tremaining: 2m 7s\n",
            "146:\tlearn: 0.0741974\ttotal: 21.9s\tremaining: 2m 7s\n",
            "147:\tlearn: 0.0739179\ttotal: 22s\tremaining: 2m 6s\n",
            "148:\tlearn: 0.0736595\ttotal: 22.1s\tremaining: 2m 6s\n",
            "149:\tlearn: 0.0734247\ttotal: 22.2s\tremaining: 2m 5s\n",
            "150:\tlearn: 0.0731613\ttotal: 22.3s\tremaining: 2m 5s\n",
            "151:\tlearn: 0.0729063\ttotal: 22.4s\tremaining: 2m 4s\n",
            "152:\tlearn: 0.0725908\ttotal: 22.5s\tremaining: 2m 4s\n",
            "153:\tlearn: 0.0723397\ttotal: 22.6s\tremaining: 2m 3s\n",
            "154:\tlearn: 0.0720960\ttotal: 22.6s\tremaining: 2m 3s\n",
            "155:\tlearn: 0.0717934\ttotal: 22.7s\tremaining: 2m 3s\n",
            "156:\tlearn: 0.0715582\ttotal: 22.8s\tremaining: 2m 2s\n",
            "157:\tlearn: 0.0713034\ttotal: 22.9s\tremaining: 2m 2s\n",
            "158:\tlearn: 0.0710777\ttotal: 23s\tremaining: 2m 1s\n",
            "159:\tlearn: 0.0708560\ttotal: 23.1s\tremaining: 2m 1s\n",
            "160:\tlearn: 0.0706170\ttotal: 23.2s\tremaining: 2m\n",
            "161:\tlearn: 0.0704311\ttotal: 23.3s\tremaining: 2m\n",
            "162:\tlearn: 0.0702384\ttotal: 23.4s\tremaining: 1m 59s\n",
            "163:\tlearn: 0.0700064\ttotal: 23.5s\tremaining: 1m 59s\n",
            "164:\tlearn: 0.0697581\ttotal: 23.5s\tremaining: 1m 59s\n",
            "165:\tlearn: 0.0695588\ttotal: 23.6s\tremaining: 1m 58s\n",
            "166:\tlearn: 0.0692942\ttotal: 23.7s\tremaining: 1m 58s\n",
            "167:\tlearn: 0.0690442\ttotal: 23.8s\tremaining: 1m 57s\n",
            "168:\tlearn: 0.0688385\ttotal: 23.9s\tremaining: 1m 57s\n",
            "169:\tlearn: 0.0685606\ttotal: 24s\tremaining: 1m 57s\n",
            "170:\tlearn: 0.0683341\ttotal: 24.1s\tremaining: 1m 56s\n",
            "171:\tlearn: 0.0680679\ttotal: 24.2s\tremaining: 1m 56s\n",
            "172:\tlearn: 0.0678836\ttotal: 24.3s\tremaining: 1m 56s\n",
            "173:\tlearn: 0.0676820\ttotal: 24.4s\tremaining: 1m 55s\n",
            "174:\tlearn: 0.0674903\ttotal: 24.5s\tremaining: 1m 55s\n",
            "175:\tlearn: 0.0673187\ttotal: 24.6s\tremaining: 1m 55s\n",
            "176:\tlearn: 0.0671367\ttotal: 24.7s\tremaining: 1m 54s\n",
            "177:\tlearn: 0.0669815\ttotal: 24.7s\tremaining: 1m 54s\n",
            "178:\tlearn: 0.0668074\ttotal: 24.8s\tremaining: 1m 53s\n",
            "179:\tlearn: 0.0665525\ttotal: 24.9s\tremaining: 1m 53s\n",
            "180:\tlearn: 0.0663449\ttotal: 25s\tremaining: 1m 53s\n",
            "181:\tlearn: 0.0661562\ttotal: 25.1s\tremaining: 1m 52s\n",
            "182:\tlearn: 0.0660075\ttotal: 25.2s\tremaining: 1m 52s\n",
            "183:\tlearn: 0.0658167\ttotal: 25.3s\tremaining: 1m 52s\n",
            "184:\tlearn: 0.0656018\ttotal: 25.4s\tremaining: 1m 51s\n",
            "185:\tlearn: 0.0654244\ttotal: 25.5s\tremaining: 1m 51s\n",
            "186:\tlearn: 0.0652969\ttotal: 25.5s\tremaining: 1m 51s\n",
            "187:\tlearn: 0.0650882\ttotal: 25.6s\tremaining: 1m 50s\n",
            "188:\tlearn: 0.0648991\ttotal: 25.7s\tremaining: 1m 50s\n",
            "189:\tlearn: 0.0647058\ttotal: 25.8s\tremaining: 1m 50s\n",
            "190:\tlearn: 0.0645147\ttotal: 25.9s\tremaining: 1m 49s\n",
            "191:\tlearn: 0.0643483\ttotal: 26s\tremaining: 1m 49s\n",
            "192:\tlearn: 0.0641964\ttotal: 26.1s\tremaining: 1m 49s\n",
            "193:\tlearn: 0.0640810\ttotal: 26.2s\tremaining: 1m 48s\n",
            "194:\tlearn: 0.0639329\ttotal: 26.3s\tremaining: 1m 48s\n",
            "195:\tlearn: 0.0637110\ttotal: 26.4s\tremaining: 1m 48s\n",
            "196:\tlearn: 0.0635174\ttotal: 26.5s\tremaining: 1m 47s\n",
            "197:\tlearn: 0.0633489\ttotal: 26.5s\tremaining: 1m 47s\n",
            "198:\tlearn: 0.0631611\ttotal: 26.6s\tremaining: 1m 47s\n",
            "199:\tlearn: 0.0630102\ttotal: 26.8s\tremaining: 1m 47s\n",
            "200:\tlearn: 0.0628759\ttotal: 26.8s\tremaining: 1m 46s\n",
            "201:\tlearn: 0.0627286\ttotal: 26.9s\tremaining: 1m 46s\n",
            "202:\tlearn: 0.0625806\ttotal: 27s\tremaining: 1m 46s\n",
            "203:\tlearn: 0.0624660\ttotal: 27.1s\tremaining: 1m 45s\n",
            "204:\tlearn: 0.0623077\ttotal: 27.2s\tremaining: 1m 45s\n",
            "205:\tlearn: 0.0621083\ttotal: 27.3s\tremaining: 1m 45s\n",
            "206:\tlearn: 0.0619761\ttotal: 27.4s\tremaining: 1m 44s\n",
            "207:\tlearn: 0.0618067\ttotal: 27.5s\tremaining: 1m 44s\n",
            "208:\tlearn: 0.0616696\ttotal: 27.5s\tremaining: 1m 44s\n",
            "209:\tlearn: 0.0615414\ttotal: 27.6s\tremaining: 1m 43s\n",
            "210:\tlearn: 0.0613727\ttotal: 27.7s\tremaining: 1m 43s\n",
            "211:\tlearn: 0.0612370\ttotal: 27.8s\tremaining: 1m 43s\n",
            "212:\tlearn: 0.0610967\ttotal: 27.9s\tremaining: 1m 43s\n",
            "213:\tlearn: 0.0609344\ttotal: 28s\tremaining: 1m 42s\n",
            "214:\tlearn: 0.0607931\ttotal: 28.1s\tremaining: 1m 42s\n",
            "215:\tlearn: 0.0606804\ttotal: 28.2s\tremaining: 1m 42s\n",
            "216:\tlearn: 0.0605706\ttotal: 28.2s\tremaining: 1m 41s\n",
            "217:\tlearn: 0.0604454\ttotal: 28.3s\tremaining: 1m 41s\n",
            "218:\tlearn: 0.0603382\ttotal: 28.4s\tremaining: 1m 41s\n",
            "219:\tlearn: 0.0601842\ttotal: 28.5s\tremaining: 1m 41s\n",
            "220:\tlearn: 0.0600489\ttotal: 28.6s\tremaining: 1m 40s\n",
            "221:\tlearn: 0.0599137\ttotal: 28.7s\tremaining: 1m 40s\n",
            "222:\tlearn: 0.0597986\ttotal: 28.8s\tremaining: 1m 40s\n",
            "223:\tlearn: 0.0596813\ttotal: 28.9s\tremaining: 1m 39s\n",
            "224:\tlearn: 0.0595465\ttotal: 28.9s\tremaining: 1m 39s\n",
            "225:\tlearn: 0.0593960\ttotal: 29s\tremaining: 1m 39s\n",
            "226:\tlearn: 0.0592635\ttotal: 29.1s\tremaining: 1m 39s\n",
            "227:\tlearn: 0.0591336\ttotal: 29.2s\tremaining: 1m 38s\n",
            "228:\tlearn: 0.0590165\ttotal: 29.3s\tremaining: 1m 38s\n",
            "229:\tlearn: 0.0588990\ttotal: 29.4s\tremaining: 1m 38s\n",
            "230:\tlearn: 0.0587567\ttotal: 29.5s\tremaining: 1m 38s\n",
            "231:\tlearn: 0.0586295\ttotal: 29.6s\tremaining: 1m 37s\n",
            "232:\tlearn: 0.0584835\ttotal: 29.7s\tremaining: 1m 37s\n",
            "233:\tlearn: 0.0583616\ttotal: 29.7s\tremaining: 1m 37s\n",
            "234:\tlearn: 0.0582397\ttotal: 29.8s\tremaining: 1m 37s\n",
            "235:\tlearn: 0.0581485\ttotal: 29.9s\tremaining: 1m 36s\n",
            "236:\tlearn: 0.0580443\ttotal: 30s\tremaining: 1m 36s\n",
            "237:\tlearn: 0.0578744\ttotal: 30.1s\tremaining: 1m 36s\n",
            "238:\tlearn: 0.0577663\ttotal: 30.2s\tremaining: 1m 36s\n",
            "239:\tlearn: 0.0576500\ttotal: 30.2s\tremaining: 1m 35s\n",
            "240:\tlearn: 0.0575192\ttotal: 30.3s\tremaining: 1m 35s\n",
            "241:\tlearn: 0.0574121\ttotal: 30.4s\tremaining: 1m 35s\n",
            "242:\tlearn: 0.0573226\ttotal: 30.5s\tremaining: 1m 35s\n",
            "243:\tlearn: 0.0572046\ttotal: 30.6s\tremaining: 1m 34s\n",
            "244:\tlearn: 0.0570963\ttotal: 30.7s\tremaining: 1m 34s\n",
            "245:\tlearn: 0.0570088\ttotal: 30.8s\tremaining: 1m 34s\n",
            "246:\tlearn: 0.0569081\ttotal: 30.9s\tremaining: 1m 34s\n",
            "247:\tlearn: 0.0567774\ttotal: 30.9s\tremaining: 1m 33s\n",
            "248:\tlearn: 0.0566546\ttotal: 31.1s\tremaining: 1m 33s\n",
            "249:\tlearn: 0.0565516\ttotal: 31.1s\tremaining: 1m 33s\n",
            "250:\tlearn: 0.0564655\ttotal: 31.2s\tremaining: 1m 33s\n",
            "251:\tlearn: 0.0563826\ttotal: 31.3s\tremaining: 1m 32s\n",
            "252:\tlearn: 0.0562630\ttotal: 31.4s\tremaining: 1m 32s\n",
            "253:\tlearn: 0.0561575\ttotal: 31.5s\tremaining: 1m 32s\n",
            "254:\tlearn: 0.0560736\ttotal: 31.6s\tremaining: 1m 32s\n",
            "255:\tlearn: 0.0559539\ttotal: 31.7s\tremaining: 1m 32s\n",
            "256:\tlearn: 0.0558584\ttotal: 31.8s\tremaining: 1m 31s\n",
            "257:\tlearn: 0.0557686\ttotal: 31.8s\tremaining: 1m 31s\n",
            "258:\tlearn: 0.0556878\ttotal: 31.9s\tremaining: 1m 31s\n",
            "259:\tlearn: 0.0555910\ttotal: 32s\tremaining: 1m 31s\n",
            "260:\tlearn: 0.0554691\ttotal: 32.1s\tremaining: 1m 30s\n",
            "261:\tlearn: 0.0553655\ttotal: 32.2s\tremaining: 1m 30s\n",
            "262:\tlearn: 0.0552486\ttotal: 32.3s\tremaining: 1m 30s\n",
            "263:\tlearn: 0.0551727\ttotal: 32.4s\tremaining: 1m 30s\n",
            "264:\tlearn: 0.0550707\ttotal: 32.4s\tremaining: 1m 29s\n",
            "265:\tlearn: 0.0549875\ttotal: 32.5s\tremaining: 1m 29s\n",
            "266:\tlearn: 0.0548634\ttotal: 32.6s\tremaining: 1m 29s\n",
            "267:\tlearn: 0.0547360\ttotal: 32.7s\tremaining: 1m 29s\n",
            "268:\tlearn: 0.0546468\ttotal: 32.8s\tremaining: 1m 29s\n",
            "269:\tlearn: 0.0545652\ttotal: 32.9s\tremaining: 1m 28s\n",
            "270:\tlearn: 0.0544620\ttotal: 32.9s\tremaining: 1m 28s\n",
            "271:\tlearn: 0.0543707\ttotal: 33s\tremaining: 1m 28s\n",
            "272:\tlearn: 0.0543030\ttotal: 33.1s\tremaining: 1m 28s\n",
            "273:\tlearn: 0.0541873\ttotal: 33.2s\tremaining: 1m 28s\n",
            "274:\tlearn: 0.0540913\ttotal: 33.3s\tremaining: 1m 27s\n",
            "275:\tlearn: 0.0540043\ttotal: 33.4s\tremaining: 1m 27s\n",
            "276:\tlearn: 0.0539441\ttotal: 33.5s\tremaining: 1m 27s\n",
            "277:\tlearn: 0.0538444\ttotal: 33.6s\tremaining: 1m 27s\n",
            "278:\tlearn: 0.0537711\ttotal: 33.7s\tremaining: 1m 26s\n",
            "279:\tlearn: 0.0536704\ttotal: 33.7s\tremaining: 1m 26s\n",
            "280:\tlearn: 0.0535909\ttotal: 33.8s\tremaining: 1m 26s\n",
            "281:\tlearn: 0.0535244\ttotal: 33.9s\tremaining: 1m 26s\n",
            "282:\tlearn: 0.0534601\ttotal: 34s\tremaining: 1m 26s\n",
            "283:\tlearn: 0.0533831\ttotal: 34.1s\tremaining: 1m 25s\n",
            "284:\tlearn: 0.0532651\ttotal: 34.2s\tremaining: 1m 25s\n",
            "285:\tlearn: 0.0531895\ttotal: 34.3s\tremaining: 1m 25s\n",
            "286:\tlearn: 0.0531004\ttotal: 34.4s\tremaining: 1m 25s\n",
            "287:\tlearn: 0.0530068\ttotal: 34.4s\tremaining: 1m 25s\n",
            "288:\tlearn: 0.0529297\ttotal: 34.5s\tremaining: 1m 24s\n",
            "289:\tlearn: 0.0528809\ttotal: 34.6s\tremaining: 1m 24s\n",
            "290:\tlearn: 0.0528008\ttotal: 34.7s\tremaining: 1m 24s\n",
            "291:\tlearn: 0.0527282\ttotal: 34.8s\tremaining: 1m 24s\n",
            "292:\tlearn: 0.0526488\ttotal: 34.9s\tremaining: 1m 24s\n",
            "293:\tlearn: 0.0525685\ttotal: 34.9s\tremaining: 1m 23s\n",
            "294:\tlearn: 0.0524830\ttotal: 35s\tremaining: 1m 23s\n",
            "295:\tlearn: 0.0524258\ttotal: 35.1s\tremaining: 1m 23s\n",
            "296:\tlearn: 0.0523625\ttotal: 35.2s\tremaining: 1m 23s\n",
            "297:\tlearn: 0.0522919\ttotal: 35.3s\tremaining: 1m 23s\n",
            "298:\tlearn: 0.0522346\ttotal: 35.4s\tremaining: 1m 22s\n",
            "299:\tlearn: 0.0521666\ttotal: 35.5s\tremaining: 1m 22s\n",
            "300:\tlearn: 0.0520958\ttotal: 35.5s\tremaining: 1m 22s\n",
            "301:\tlearn: 0.0520341\ttotal: 35.6s\tremaining: 1m 22s\n",
            "302:\tlearn: 0.0519484\ttotal: 35.7s\tremaining: 1m 22s\n",
            "303:\tlearn: 0.0518703\ttotal: 35.8s\tremaining: 1m 21s\n",
            "304:\tlearn: 0.0518013\ttotal: 35.9s\tremaining: 1m 21s\n",
            "305:\tlearn: 0.0517433\ttotal: 35.9s\tremaining: 1m 21s\n",
            "306:\tlearn: 0.0516696\ttotal: 36s\tremaining: 1m 21s\n",
            "307:\tlearn: 0.0516225\ttotal: 36.1s\tremaining: 1m 21s\n",
            "308:\tlearn: 0.0515201\ttotal: 36.2s\tremaining: 1m 20s\n",
            "309:\tlearn: 0.0514570\ttotal: 36.3s\tremaining: 1m 20s\n",
            "310:\tlearn: 0.0513788\ttotal: 36.4s\tremaining: 1m 20s\n",
            "311:\tlearn: 0.0513157\ttotal: 36.5s\tremaining: 1m 20s\n",
            "312:\tlearn: 0.0512112\ttotal: 36.5s\tremaining: 1m 20s\n",
            "313:\tlearn: 0.0511445\ttotal: 36.6s\tremaining: 1m 20s\n",
            "314:\tlearn: 0.0510729\ttotal: 36.7s\tremaining: 1m 19s\n",
            "315:\tlearn: 0.0509748\ttotal: 36.8s\tremaining: 1m 19s\n",
            "316:\tlearn: 0.0508887\ttotal: 36.9s\tremaining: 1m 19s\n",
            "317:\tlearn: 0.0508043\ttotal: 37s\tremaining: 1m 19s\n",
            "318:\tlearn: 0.0507280\ttotal: 37.1s\tremaining: 1m 19s\n",
            "319:\tlearn: 0.0506619\ttotal: 37.2s\tremaining: 1m 19s\n",
            "320:\tlearn: 0.0506016\ttotal: 37.3s\tremaining: 1m 18s\n",
            "321:\tlearn: 0.0505347\ttotal: 37.4s\tremaining: 1m 18s\n",
            "322:\tlearn: 0.0504757\ttotal: 37.4s\tremaining: 1m 18s\n",
            "323:\tlearn: 0.0504022\ttotal: 37.5s\tremaining: 1m 18s\n",
            "324:\tlearn: 0.0503288\ttotal: 37.6s\tremaining: 1m 18s\n",
            "325:\tlearn: 0.0502596\ttotal: 37.7s\tremaining: 1m 17s\n",
            "326:\tlearn: 0.0502121\ttotal: 37.8s\tremaining: 1m 17s\n",
            "327:\tlearn: 0.0501402\ttotal: 37.8s\tremaining: 1m 17s\n",
            "328:\tlearn: 0.0500537\ttotal: 37.9s\tremaining: 1m 17s\n",
            "329:\tlearn: 0.0499897\ttotal: 38s\tremaining: 1m 17s\n",
            "330:\tlearn: 0.0499335\ttotal: 38.1s\tremaining: 1m 16s\n",
            "331:\tlearn: 0.0498722\ttotal: 38.2s\tremaining: 1m 16s\n",
            "332:\tlearn: 0.0497803\ttotal: 38.2s\tremaining: 1m 16s\n",
            "333:\tlearn: 0.0496991\ttotal: 38.3s\tremaining: 1m 16s\n",
            "334:\tlearn: 0.0496274\ttotal: 38.4s\tremaining: 1m 16s\n",
            "335:\tlearn: 0.0495548\ttotal: 38.5s\tremaining: 1m 16s\n",
            "336:\tlearn: 0.0494887\ttotal: 38.6s\tremaining: 1m 15s\n",
            "337:\tlearn: 0.0494255\ttotal: 38.7s\tremaining: 1m 15s\n",
            "338:\tlearn: 0.0493628\ttotal: 38.8s\tremaining: 1m 15s\n",
            "339:\tlearn: 0.0493117\ttotal: 38.9s\tremaining: 1m 15s\n",
            "340:\tlearn: 0.0492643\ttotal: 38.9s\tremaining: 1m 15s\n",
            "341:\tlearn: 0.0492040\ttotal: 39s\tremaining: 1m 15s\n",
            "342:\tlearn: 0.0491232\ttotal: 39.1s\tremaining: 1m 14s\n",
            "343:\tlearn: 0.0490809\ttotal: 39.2s\tremaining: 1m 14s\n",
            "344:\tlearn: 0.0490414\ttotal: 39.3s\tremaining: 1m 14s\n",
            "345:\tlearn: 0.0489716\ttotal: 39.4s\tremaining: 1m 14s\n",
            "346:\tlearn: 0.0489204\ttotal: 39.5s\tremaining: 1m 14s\n",
            "347:\tlearn: 0.0488434\ttotal: 39.6s\tremaining: 1m 14s\n",
            "348:\tlearn: 0.0488127\ttotal: 39.6s\tremaining: 1m 13s\n",
            "349:\tlearn: 0.0487481\ttotal: 39.7s\tremaining: 1m 13s\n",
            "350:\tlearn: 0.0486858\ttotal: 39.8s\tremaining: 1m 13s\n",
            "351:\tlearn: 0.0486209\ttotal: 39.9s\tremaining: 1m 13s\n",
            "352:\tlearn: 0.0485791\ttotal: 40s\tremaining: 1m 13s\n",
            "353:\tlearn: 0.0485162\ttotal: 40.1s\tremaining: 1m 13s\n",
            "354:\tlearn: 0.0484638\ttotal: 40.2s\tremaining: 1m 12s\n",
            "355:\tlearn: 0.0484242\ttotal: 40.2s\tremaining: 1m 12s\n",
            "356:\tlearn: 0.0483482\ttotal: 40.3s\tremaining: 1m 12s\n",
            "357:\tlearn: 0.0483162\ttotal: 40.4s\tremaining: 1m 12s\n",
            "358:\tlearn: 0.0482498\ttotal: 40.5s\tremaining: 1m 12s\n",
            "359:\tlearn: 0.0482209\ttotal: 40.6s\tremaining: 1m 12s\n",
            "360:\tlearn: 0.0481363\ttotal: 40.7s\tremaining: 1m 12s\n",
            "361:\tlearn: 0.0480991\ttotal: 40.8s\tremaining: 1m 11s\n",
            "362:\tlearn: 0.0480483\ttotal: 40.8s\tremaining: 1m 11s\n",
            "363:\tlearn: 0.0479984\ttotal: 40.9s\tremaining: 1m 11s\n",
            "364:\tlearn: 0.0479387\ttotal: 41s\tremaining: 1m 11s\n",
            "365:\tlearn: 0.0478663\ttotal: 41.1s\tremaining: 1m 11s\n",
            "366:\tlearn: 0.0478234\ttotal: 41.2s\tremaining: 1m 11s\n",
            "367:\tlearn: 0.0477593\ttotal: 41.3s\tremaining: 1m 10s\n",
            "368:\tlearn: 0.0477095\ttotal: 41.4s\tremaining: 1m 10s\n",
            "369:\tlearn: 0.0476383\ttotal: 41.5s\tremaining: 1m 10s\n",
            "370:\tlearn: 0.0475888\ttotal: 41.5s\tremaining: 1m 10s\n",
            "371:\tlearn: 0.0475035\ttotal: 41.6s\tremaining: 1m 10s\n",
            "372:\tlearn: 0.0474236\ttotal: 41.7s\tremaining: 1m 10s\n",
            "373:\tlearn: 0.0473848\ttotal: 41.8s\tremaining: 1m 9s\n",
            "374:\tlearn: 0.0473381\ttotal: 41.9s\tremaining: 1m 9s\n",
            "375:\tlearn: 0.0472933\ttotal: 42s\tremaining: 1m 9s\n",
            "376:\tlearn: 0.0472570\ttotal: 42.1s\tremaining: 1m 9s\n",
            "377:\tlearn: 0.0471968\ttotal: 42.2s\tremaining: 1m 9s\n",
            "378:\tlearn: 0.0471593\ttotal: 42.2s\tremaining: 1m 9s\n",
            "379:\tlearn: 0.0471050\ttotal: 42.3s\tremaining: 1m 9s\n",
            "380:\tlearn: 0.0470562\ttotal: 42.4s\tremaining: 1m 8s\n",
            "381:\tlearn: 0.0470016\ttotal: 42.5s\tremaining: 1m 8s\n",
            "382:\tlearn: 0.0469569\ttotal: 42.6s\tremaining: 1m 8s\n",
            "383:\tlearn: 0.0469090\ttotal: 42.7s\tremaining: 1m 8s\n",
            "384:\tlearn: 0.0468627\ttotal: 42.7s\tremaining: 1m 8s\n",
            "385:\tlearn: 0.0468315\ttotal: 42.8s\tremaining: 1m 8s\n",
            "386:\tlearn: 0.0467831\ttotal: 42.9s\tremaining: 1m 7s\n",
            "387:\tlearn: 0.0467231\ttotal: 43s\tremaining: 1m 7s\n",
            "388:\tlearn: 0.0466756\ttotal: 43.1s\tremaining: 1m 7s\n",
            "389:\tlearn: 0.0466389\ttotal: 43.2s\tremaining: 1m 7s\n",
            "390:\tlearn: 0.0465920\ttotal: 43.3s\tremaining: 1m 7s\n",
            "391:\tlearn: 0.0465318\ttotal: 43.3s\tremaining: 1m 7s\n",
            "392:\tlearn: 0.0464877\ttotal: 43.4s\tremaining: 1m 7s\n",
            "393:\tlearn: 0.0464497\ttotal: 43.5s\tremaining: 1m 6s\n",
            "394:\tlearn: 0.0464061\ttotal: 43.6s\tremaining: 1m 6s\n",
            "395:\tlearn: 0.0463614\ttotal: 43.7s\tremaining: 1m 6s\n",
            "396:\tlearn: 0.0463197\ttotal: 43.7s\tremaining: 1m 6s\n",
            "397:\tlearn: 0.0462588\ttotal: 43.9s\tremaining: 1m 6s\n",
            "398:\tlearn: 0.0461995\ttotal: 43.9s\tremaining: 1m 6s\n",
            "399:\tlearn: 0.0461503\ttotal: 44s\tremaining: 1m 6s\n",
            "400:\tlearn: 0.0461062\ttotal: 44.1s\tremaining: 1m 5s\n",
            "401:\tlearn: 0.0460508\ttotal: 44.2s\tremaining: 1m 5s\n",
            "402:\tlearn: 0.0460248\ttotal: 44.3s\tremaining: 1m 5s\n",
            "403:\tlearn: 0.0460014\ttotal: 44.4s\tremaining: 1m 5s\n",
            "404:\tlearn: 0.0459636\ttotal: 44.4s\tremaining: 1m 5s\n",
            "405:\tlearn: 0.0459291\ttotal: 44.5s\tremaining: 1m 5s\n",
            "406:\tlearn: 0.0458842\ttotal: 44.6s\tremaining: 1m 4s\n",
            "407:\tlearn: 0.0458502\ttotal: 44.7s\tremaining: 1m 4s\n",
            "408:\tlearn: 0.0458160\ttotal: 44.8s\tremaining: 1m 4s\n",
            "409:\tlearn: 0.0457747\ttotal: 44.9s\tremaining: 1m 4s\n",
            "410:\tlearn: 0.0457329\ttotal: 45s\tremaining: 1m 4s\n",
            "411:\tlearn: 0.0456939\ttotal: 45.1s\tremaining: 1m 4s\n",
            "412:\tlearn: 0.0456532\ttotal: 45.1s\tremaining: 1m 4s\n",
            "413:\tlearn: 0.0456248\ttotal: 45.2s\tremaining: 1m 4s\n",
            "414:\tlearn: 0.0455960\ttotal: 45.3s\tremaining: 1m 3s\n",
            "415:\tlearn: 0.0455549\ttotal: 45.4s\tremaining: 1m 3s\n",
            "416:\tlearn: 0.0455071\ttotal: 45.5s\tremaining: 1m 3s\n",
            "417:\tlearn: 0.0454504\ttotal: 45.5s\tremaining: 1m 3s\n",
            "418:\tlearn: 0.0454190\ttotal: 45.6s\tremaining: 1m 3s\n",
            "419:\tlearn: 0.0453805\ttotal: 45.7s\tremaining: 1m 3s\n",
            "420:\tlearn: 0.0453433\ttotal: 45.8s\tremaining: 1m 2s\n",
            "421:\tlearn: 0.0453004\ttotal: 45.9s\tremaining: 1m 2s\n",
            "422:\tlearn: 0.0452705\ttotal: 45.9s\tremaining: 1m 2s\n",
            "423:\tlearn: 0.0452009\ttotal: 46s\tremaining: 1m 2s\n",
            "424:\tlearn: 0.0451616\ttotal: 46.1s\tremaining: 1m 2s\n",
            "425:\tlearn: 0.0451027\ttotal: 46.2s\tremaining: 1m 2s\n",
            "426:\tlearn: 0.0450552\ttotal: 46.3s\tremaining: 1m 2s\n",
            "427:\tlearn: 0.0450230\ttotal: 46.4s\tremaining: 1m 1s\n",
            "428:\tlearn: 0.0449685\ttotal: 46.5s\tremaining: 1m 1s\n",
            "429:\tlearn: 0.0449426\ttotal: 46.5s\tremaining: 1m 1s\n",
            "430:\tlearn: 0.0448973\ttotal: 46.6s\tremaining: 1m 1s\n",
            "431:\tlearn: 0.0448679\ttotal: 46.7s\tremaining: 1m 1s\n",
            "432:\tlearn: 0.0448296\ttotal: 46.8s\tremaining: 1m 1s\n",
            "433:\tlearn: 0.0448015\ttotal: 46.9s\tremaining: 1m 1s\n",
            "434:\tlearn: 0.0447343\ttotal: 47s\tremaining: 1m 1s\n",
            "435:\tlearn: 0.0446791\ttotal: 47.1s\tremaining: 1m\n",
            "436:\tlearn: 0.0446593\ttotal: 47.1s\tremaining: 1m\n",
            "437:\tlearn: 0.0446182\ttotal: 47.2s\tremaining: 1m\n",
            "438:\tlearn: 0.0445878\ttotal: 47.3s\tremaining: 1m\n",
            "439:\tlearn: 0.0445584\ttotal: 47.4s\tremaining: 1m\n",
            "440:\tlearn: 0.0445075\ttotal: 47.5s\tremaining: 1m\n",
            "441:\tlearn: 0.0444699\ttotal: 47.5s\tremaining: 1m\n",
            "442:\tlearn: 0.0444358\ttotal: 47.6s\tremaining: 59.9s\n",
            "443:\tlearn: 0.0443745\ttotal: 47.7s\tremaining: 59.7s\n",
            "444:\tlearn: 0.0443410\ttotal: 47.8s\tremaining: 59.6s\n",
            "445:\tlearn: 0.0442872\ttotal: 47.9s\tremaining: 59.5s\n",
            "446:\tlearn: 0.0442563\ttotal: 48s\tremaining: 59.3s\n",
            "447:\tlearn: 0.0442181\ttotal: 48s\tremaining: 59.2s\n",
            "448:\tlearn: 0.0442051\ttotal: 48.1s\tremaining: 59.1s\n",
            "449:\tlearn: 0.0441669\ttotal: 48.2s\tremaining: 58.9s\n",
            "450:\tlearn: 0.0441220\ttotal: 48.3s\tremaining: 58.8s\n",
            "451:\tlearn: 0.0440670\ttotal: 48.4s\tremaining: 58.7s\n",
            "452:\tlearn: 0.0440261\ttotal: 48.5s\tremaining: 58.5s\n",
            "453:\tlearn: 0.0439937\ttotal: 48.6s\tremaining: 58.4s\n",
            "454:\tlearn: 0.0439459\ttotal: 48.6s\tremaining: 58.3s\n",
            "455:\tlearn: 0.0438893\ttotal: 48.7s\tremaining: 58.1s\n",
            "456:\tlearn: 0.0438653\ttotal: 48.8s\tremaining: 58s\n",
            "457:\tlearn: 0.0438123\ttotal: 48.9s\tremaining: 57.9s\n",
            "458:\tlearn: 0.0437700\ttotal: 49s\tremaining: 57.7s\n",
            "459:\tlearn: 0.0437258\ttotal: 49.1s\tremaining: 57.6s\n",
            "460:\tlearn: 0.0436885\ttotal: 49.2s\tremaining: 57.5s\n",
            "461:\tlearn: 0.0436617\ttotal: 49.2s\tremaining: 57.3s\n",
            "462:\tlearn: 0.0436356\ttotal: 49.3s\tremaining: 57.2s\n",
            "463:\tlearn: 0.0436030\ttotal: 49.4s\tremaining: 57.1s\n",
            "464:\tlearn: 0.0435799\ttotal: 49.5s\tremaining: 56.9s\n",
            "465:\tlearn: 0.0435309\ttotal: 49.6s\tremaining: 56.8s\n",
            "466:\tlearn: 0.0434933\ttotal: 49.7s\tremaining: 56.7s\n",
            "467:\tlearn: 0.0434549\ttotal: 49.8s\tremaining: 56.6s\n",
            "468:\tlearn: 0.0434283\ttotal: 49.8s\tremaining: 56.4s\n",
            "469:\tlearn: 0.0433778\ttotal: 49.9s\tremaining: 56.3s\n",
            "470:\tlearn: 0.0433567\ttotal: 50s\tremaining: 56.2s\n",
            "471:\tlearn: 0.0433126\ttotal: 50.1s\tremaining: 56.1s\n",
            "472:\tlearn: 0.0432883\ttotal: 50.2s\tremaining: 55.9s\n",
            "473:\tlearn: 0.0432384\ttotal: 50.3s\tremaining: 55.8s\n",
            "474:\tlearn: 0.0432121\ttotal: 50.4s\tremaining: 55.7s\n",
            "475:\tlearn: 0.0431572\ttotal: 50.5s\tremaining: 55.6s\n",
            "476:\tlearn: 0.0431188\ttotal: 50.6s\tremaining: 55.4s\n",
            "477:\tlearn: 0.0430851\ttotal: 50.6s\tremaining: 55.3s\n",
            "478:\tlearn: 0.0430495\ttotal: 50.7s\tremaining: 55.2s\n",
            "479:\tlearn: 0.0430173\ttotal: 50.8s\tremaining: 55s\n",
            "480:\tlearn: 0.0429545\ttotal: 50.9s\tremaining: 54.9s\n",
            "481:\tlearn: 0.0429245\ttotal: 51s\tremaining: 54.8s\n",
            "482:\tlearn: 0.0428955\ttotal: 51s\tremaining: 54.6s\n",
            "483:\tlearn: 0.0428558\ttotal: 51.1s\tremaining: 54.5s\n",
            "484:\tlearn: 0.0428261\ttotal: 51.2s\tremaining: 54.4s\n",
            "485:\tlearn: 0.0427991\ttotal: 51.3s\tremaining: 54.3s\n",
            "486:\tlearn: 0.0427668\ttotal: 51.4s\tremaining: 54.1s\n",
            "487:\tlearn: 0.0427246\ttotal: 51.5s\tremaining: 54s\n",
            "488:\tlearn: 0.0426759\ttotal: 51.6s\tremaining: 53.9s\n",
            "489:\tlearn: 0.0426190\ttotal: 51.6s\tremaining: 53.8s\n",
            "490:\tlearn: 0.0425839\ttotal: 51.7s\tremaining: 53.6s\n",
            "491:\tlearn: 0.0425599\ttotal: 51.8s\tremaining: 53.5s\n",
            "492:\tlearn: 0.0425088\ttotal: 51.9s\tremaining: 53.4s\n",
            "493:\tlearn: 0.0424788\ttotal: 52s\tremaining: 53.2s\n",
            "494:\tlearn: 0.0424513\ttotal: 52.1s\tremaining: 53.1s\n",
            "495:\tlearn: 0.0424287\ttotal: 52.1s\tremaining: 53s\n",
            "496:\tlearn: 0.0423963\ttotal: 52.2s\tremaining: 52.9s\n",
            "497:\tlearn: 0.0423514\ttotal: 52.3s\tremaining: 52.8s\n",
            "498:\tlearn: 0.0423147\ttotal: 52.4s\tremaining: 52.6s\n",
            "499:\tlearn: 0.0422655\ttotal: 52.5s\tremaining: 52.5s\n",
            "500:\tlearn: 0.0422254\ttotal: 52.6s\tremaining: 52.4s\n",
            "501:\tlearn: 0.0421555\ttotal: 52.7s\tremaining: 52.3s\n",
            "502:\tlearn: 0.0421093\ttotal: 52.8s\tremaining: 52.2s\n",
            "503:\tlearn: 0.0420870\ttotal: 52.9s\tremaining: 52s\n",
            "504:\tlearn: 0.0420512\ttotal: 53s\tremaining: 51.9s\n",
            "505:\tlearn: 0.0420053\ttotal: 53s\tremaining: 51.8s\n",
            "506:\tlearn: 0.0419698\ttotal: 53.1s\tremaining: 51.7s\n",
            "507:\tlearn: 0.0419505\ttotal: 53.2s\tremaining: 51.6s\n",
            "508:\tlearn: 0.0419181\ttotal: 53.3s\tremaining: 51.4s\n",
            "509:\tlearn: 0.0418881\ttotal: 53.4s\tremaining: 51.3s\n",
            "510:\tlearn: 0.0418446\ttotal: 53.5s\tremaining: 51.2s\n",
            "511:\tlearn: 0.0417950\ttotal: 53.6s\tremaining: 51.1s\n",
            "512:\tlearn: 0.0417592\ttotal: 53.7s\tremaining: 50.9s\n",
            "513:\tlearn: 0.0417386\ttotal: 53.7s\tremaining: 50.8s\n",
            "514:\tlearn: 0.0416881\ttotal: 53.8s\tremaining: 50.7s\n",
            "515:\tlearn: 0.0416699\ttotal: 53.9s\tremaining: 50.6s\n",
            "516:\tlearn: 0.0416416\ttotal: 54s\tremaining: 50.5s\n",
            "517:\tlearn: 0.0416266\ttotal: 54.1s\tremaining: 50.3s\n",
            "518:\tlearn: 0.0415878\ttotal: 54.2s\tremaining: 50.2s\n",
            "519:\tlearn: 0.0415497\ttotal: 54.3s\tremaining: 50.1s\n",
            "520:\tlearn: 0.0415038\ttotal: 54.3s\tremaining: 50s\n",
            "521:\tlearn: 0.0414761\ttotal: 54.4s\tremaining: 49.9s\n",
            "522:\tlearn: 0.0414432\ttotal: 54.5s\tremaining: 49.7s\n",
            "523:\tlearn: 0.0414361\ttotal: 54.6s\tremaining: 49.6s\n",
            "524:\tlearn: 0.0414180\ttotal: 54.7s\tremaining: 49.5s\n",
            "525:\tlearn: 0.0413905\ttotal: 54.8s\tremaining: 49.4s\n",
            "526:\tlearn: 0.0413652\ttotal: 54.9s\tremaining: 49.2s\n",
            "527:\tlearn: 0.0413151\ttotal: 54.9s\tremaining: 49.1s\n",
            "528:\tlearn: 0.0413036\ttotal: 55s\tremaining: 49s\n",
            "529:\tlearn: 0.0412758\ttotal: 55.1s\tremaining: 48.9s\n",
            "530:\tlearn: 0.0412635\ttotal: 55.3s\tremaining: 48.8s\n",
            "531:\tlearn: 0.0412168\ttotal: 55.5s\tremaining: 48.8s\n",
            "532:\tlearn: 0.0412032\ttotal: 55.6s\tremaining: 48.7s\n",
            "533:\tlearn: 0.0411787\ttotal: 55.7s\tremaining: 48.6s\n",
            "534:\tlearn: 0.0411666\ttotal: 55.9s\tremaining: 48.6s\n",
            "535:\tlearn: 0.0411546\ttotal: 56.1s\tremaining: 48.6s\n",
            "536:\tlearn: 0.0411289\ttotal: 56.3s\tremaining: 48.5s\n",
            "537:\tlearn: 0.0411000\ttotal: 56.5s\tremaining: 48.5s\n",
            "538:\tlearn: 0.0410756\ttotal: 56.6s\tremaining: 48.4s\n",
            "539:\tlearn: 0.0410405\ttotal: 56.8s\tremaining: 48.4s\n",
            "540:\tlearn: 0.0410011\ttotal: 57s\tremaining: 48.4s\n",
            "541:\tlearn: 0.0409805\ttotal: 57.2s\tremaining: 48.3s\n",
            "542:\tlearn: 0.0409456\ttotal: 57.3s\tremaining: 48.3s\n",
            "543:\tlearn: 0.0409105\ttotal: 57.5s\tremaining: 48.2s\n",
            "544:\tlearn: 0.0408814\ttotal: 57.7s\tremaining: 48.2s\n",
            "545:\tlearn: 0.0408581\ttotal: 57.9s\tremaining: 48.2s\n",
            "546:\tlearn: 0.0408224\ttotal: 58.1s\tremaining: 48.1s\n",
            "547:\tlearn: 0.0407817\ttotal: 58.3s\tremaining: 48.1s\n",
            "548:\tlearn: 0.0407557\ttotal: 58.5s\tremaining: 48s\n",
            "549:\tlearn: 0.0407294\ttotal: 58.7s\tremaining: 48s\n",
            "550:\tlearn: 0.0406977\ttotal: 58.9s\tremaining: 48s\n",
            "551:\tlearn: 0.0406768\ttotal: 59s\tremaining: 47.9s\n",
            "552:\tlearn: 0.0406524\ttotal: 59.2s\tremaining: 47.8s\n",
            "553:\tlearn: 0.0406285\ttotal: 59.4s\tremaining: 47.8s\n",
            "554:\tlearn: 0.0405945\ttotal: 59.5s\tremaining: 47.7s\n",
            "555:\tlearn: 0.0405708\ttotal: 59.7s\tremaining: 47.7s\n",
            "556:\tlearn: 0.0405207\ttotal: 59.9s\tremaining: 47.6s\n",
            "557:\tlearn: 0.0405057\ttotal: 60s\tremaining: 47.5s\n",
            "558:\tlearn: 0.0404906\ttotal: 1m\tremaining: 47.4s\n",
            "559:\tlearn: 0.0404694\ttotal: 1m\tremaining: 47.2s\n",
            "560:\tlearn: 0.0404376\ttotal: 1m\tremaining: 47.1s\n",
            "561:\tlearn: 0.0404103\ttotal: 1m\tremaining: 47s\n",
            "562:\tlearn: 0.0403659\ttotal: 1m\tremaining: 46.9s\n",
            "563:\tlearn: 0.0403294\ttotal: 1m\tremaining: 46.7s\n",
            "564:\tlearn: 0.0403090\ttotal: 1m\tremaining: 46.6s\n",
            "565:\tlearn: 0.0402888\ttotal: 1m\tremaining: 46.5s\n",
            "566:\tlearn: 0.0402583\ttotal: 1m\tremaining: 46.3s\n",
            "567:\tlearn: 0.0402163\ttotal: 1m\tremaining: 46.2s\n",
            "568:\tlearn: 0.0401873\ttotal: 1m\tremaining: 46.1s\n",
            "569:\tlearn: 0.0401597\ttotal: 1m\tremaining: 46s\n",
            "570:\tlearn: 0.0401208\ttotal: 1m 1s\tremaining: 45.8s\n",
            "571:\tlearn: 0.0401009\ttotal: 1m 1s\tremaining: 45.7s\n",
            "572:\tlearn: 0.0400790\ttotal: 1m 1s\tremaining: 45.6s\n",
            "573:\tlearn: 0.0400404\ttotal: 1m 1s\tremaining: 45.5s\n",
            "574:\tlearn: 0.0400308\ttotal: 1m 1s\tremaining: 45.3s\n",
            "575:\tlearn: 0.0399916\ttotal: 1m 1s\tremaining: 45.2s\n",
            "576:\tlearn: 0.0399712\ttotal: 1m 1s\tremaining: 45.1s\n",
            "577:\tlearn: 0.0399449\ttotal: 1m 1s\tremaining: 45s\n",
            "578:\tlearn: 0.0399130\ttotal: 1m 1s\tremaining: 44.8s\n",
            "579:\tlearn: 0.0398724\ttotal: 1m 1s\tremaining: 44.7s\n",
            "580:\tlearn: 0.0398426\ttotal: 1m 1s\tremaining: 44.6s\n",
            "581:\tlearn: 0.0398196\ttotal: 1m 1s\tremaining: 44.5s\n",
            "582:\tlearn: 0.0397916\ttotal: 1m 2s\tremaining: 44.3s\n",
            "583:\tlearn: 0.0397588\ttotal: 1m 2s\tremaining: 44.2s\n",
            "584:\tlearn: 0.0397278\ttotal: 1m 2s\tremaining: 44.1s\n",
            "585:\tlearn: 0.0397107\ttotal: 1m 2s\tremaining: 44s\n",
            "586:\tlearn: 0.0396823\ttotal: 1m 2s\tremaining: 43.9s\n",
            "587:\tlearn: 0.0396635\ttotal: 1m 2s\tremaining: 43.7s\n",
            "588:\tlearn: 0.0396364\ttotal: 1m 2s\tremaining: 43.6s\n",
            "589:\tlearn: 0.0396211\ttotal: 1m 2s\tremaining: 43.5s\n",
            "590:\tlearn: 0.0395936\ttotal: 1m 2s\tremaining: 43.4s\n",
            "591:\tlearn: 0.0395765\ttotal: 1m 2s\tremaining: 43.3s\n",
            "592:\tlearn: 0.0395396\ttotal: 1m 2s\tremaining: 43.1s\n",
            "593:\tlearn: 0.0394978\ttotal: 1m 2s\tremaining: 43s\n",
            "594:\tlearn: 0.0394614\ttotal: 1m 3s\tremaining: 42.9s\n",
            "595:\tlearn: 0.0394434\ttotal: 1m 3s\tremaining: 42.8s\n",
            "596:\tlearn: 0.0394246\ttotal: 1m 3s\tremaining: 42.7s\n",
            "597:\tlearn: 0.0394066\ttotal: 1m 3s\tremaining: 42.5s\n",
            "598:\tlearn: 0.0393868\ttotal: 1m 3s\tremaining: 42.4s\n",
            "599:\tlearn: 0.0393621\ttotal: 1m 3s\tremaining: 42.3s\n",
            "600:\tlearn: 0.0393226\ttotal: 1m 3s\tremaining: 42.2s\n",
            "601:\tlearn: 0.0393011\ttotal: 1m 3s\tremaining: 42.1s\n",
            "602:\tlearn: 0.0392703\ttotal: 1m 3s\tremaining: 41.9s\n",
            "603:\tlearn: 0.0392389\ttotal: 1m 3s\tremaining: 41.8s\n",
            "604:\tlearn: 0.0392117\ttotal: 1m 3s\tremaining: 41.7s\n",
            "605:\tlearn: 0.0391847\ttotal: 1m 3s\tremaining: 41.6s\n",
            "606:\tlearn: 0.0391480\ttotal: 1m 4s\tremaining: 41.5s\n",
            "607:\tlearn: 0.0391371\ttotal: 1m 4s\tremaining: 41.3s\n",
            "608:\tlearn: 0.0391202\ttotal: 1m 4s\tremaining: 41.2s\n",
            "609:\tlearn: 0.0390871\ttotal: 1m 4s\tremaining: 41.1s\n",
            "610:\tlearn: 0.0390588\ttotal: 1m 4s\tremaining: 41s\n",
            "611:\tlearn: 0.0390206\ttotal: 1m 4s\tremaining: 40.9s\n",
            "612:\tlearn: 0.0389967\ttotal: 1m 4s\tremaining: 40.8s\n",
            "613:\tlearn: 0.0389523\ttotal: 1m 4s\tremaining: 40.6s\n",
            "614:\tlearn: 0.0389317\ttotal: 1m 4s\tremaining: 40.5s\n",
            "615:\tlearn: 0.0389134\ttotal: 1m 4s\tremaining: 40.4s\n",
            "616:\tlearn: 0.0388819\ttotal: 1m 4s\tremaining: 40.3s\n",
            "617:\tlearn: 0.0388671\ttotal: 1m 4s\tremaining: 40.2s\n",
            "618:\tlearn: 0.0388230\ttotal: 1m 5s\tremaining: 40s\n",
            "619:\tlearn: 0.0387992\ttotal: 1m 5s\tremaining: 39.9s\n",
            "620:\tlearn: 0.0387737\ttotal: 1m 5s\tremaining: 39.8s\n",
            "621:\tlearn: 0.0387434\ttotal: 1m 5s\tremaining: 39.7s\n",
            "622:\tlearn: 0.0387162\ttotal: 1m 5s\tremaining: 39.6s\n",
            "623:\tlearn: 0.0386751\ttotal: 1m 5s\tremaining: 39.5s\n",
            "624:\tlearn: 0.0386585\ttotal: 1m 5s\tremaining: 39.3s\n",
            "625:\tlearn: 0.0386394\ttotal: 1m 5s\tremaining: 39.2s\n",
            "626:\tlearn: 0.0386225\ttotal: 1m 5s\tremaining: 39.1s\n",
            "627:\tlearn: 0.0385879\ttotal: 1m 5s\tremaining: 39s\n",
            "628:\tlearn: 0.0385631\ttotal: 1m 5s\tremaining: 38.9s\n",
            "629:\tlearn: 0.0385399\ttotal: 1m 5s\tremaining: 38.8s\n",
            "630:\tlearn: 0.0385165\ttotal: 1m 6s\tremaining: 38.6s\n",
            "631:\tlearn: 0.0384816\ttotal: 1m 6s\tremaining: 38.5s\n",
            "632:\tlearn: 0.0384488\ttotal: 1m 6s\tremaining: 38.4s\n",
            "633:\tlearn: 0.0384318\ttotal: 1m 6s\tremaining: 38.3s\n",
            "634:\tlearn: 0.0384057\ttotal: 1m 6s\tremaining: 38.2s\n",
            "635:\tlearn: 0.0383987\ttotal: 1m 6s\tremaining: 38.1s\n",
            "636:\tlearn: 0.0383663\ttotal: 1m 6s\tremaining: 37.9s\n",
            "637:\tlearn: 0.0383211\ttotal: 1m 6s\tremaining: 37.8s\n",
            "638:\tlearn: 0.0383085\ttotal: 1m 6s\tremaining: 37.7s\n",
            "639:\tlearn: 0.0382839\ttotal: 1m 6s\tremaining: 37.6s\n",
            "640:\tlearn: 0.0382503\ttotal: 1m 6s\tremaining: 37.5s\n",
            "641:\tlearn: 0.0382116\ttotal: 1m 7s\tremaining: 37.4s\n",
            "642:\tlearn: 0.0381823\ttotal: 1m 7s\tremaining: 37.3s\n",
            "643:\tlearn: 0.0381521\ttotal: 1m 7s\tremaining: 37.2s\n",
            "644:\tlearn: 0.0381238\ttotal: 1m 7s\tremaining: 37s\n",
            "645:\tlearn: 0.0380921\ttotal: 1m 7s\tremaining: 36.9s\n",
            "646:\tlearn: 0.0380835\ttotal: 1m 7s\tremaining: 36.8s\n",
            "647:\tlearn: 0.0380471\ttotal: 1m 7s\tremaining: 36.7s\n",
            "648:\tlearn: 0.0380470\ttotal: 1m 7s\tremaining: 36.6s\n",
            "649:\tlearn: 0.0380428\ttotal: 1m 7s\tremaining: 36.5s\n",
            "650:\tlearn: 0.0380337\ttotal: 1m 7s\tremaining: 36.3s\n",
            "651:\tlearn: 0.0380060\ttotal: 1m 7s\tremaining: 36.2s\n",
            "652:\tlearn: 0.0379742\ttotal: 1m 7s\tremaining: 36.1s\n",
            "653:\tlearn: 0.0379520\ttotal: 1m 8s\tremaining: 36s\n",
            "654:\tlearn: 0.0379350\ttotal: 1m 8s\tremaining: 35.9s\n",
            "655:\tlearn: 0.0379123\ttotal: 1m 8s\tremaining: 35.8s\n",
            "656:\tlearn: 0.0378936\ttotal: 1m 8s\tremaining: 35.6s\n",
            "657:\tlearn: 0.0378628\ttotal: 1m 8s\tremaining: 35.5s\n",
            "658:\tlearn: 0.0378287\ttotal: 1m 8s\tremaining: 35.4s\n",
            "659:\tlearn: 0.0377988\ttotal: 1m 8s\tremaining: 35.3s\n",
            "660:\tlearn: 0.0377787\ttotal: 1m 8s\tremaining: 35.2s\n",
            "661:\tlearn: 0.0377512\ttotal: 1m 8s\tremaining: 35.1s\n",
            "662:\tlearn: 0.0377295\ttotal: 1m 8s\tremaining: 35s\n",
            "663:\tlearn: 0.0377001\ttotal: 1m 8s\tremaining: 34.8s\n",
            "664:\tlearn: 0.0376781\ttotal: 1m 8s\tremaining: 34.7s\n",
            "665:\tlearn: 0.0376397\ttotal: 1m 9s\tremaining: 34.6s\n",
            "666:\tlearn: 0.0376213\ttotal: 1m 9s\tremaining: 34.5s\n",
            "667:\tlearn: 0.0376046\ttotal: 1m 9s\tremaining: 34.4s\n",
            "668:\tlearn: 0.0375963\ttotal: 1m 9s\tremaining: 34.3s\n",
            "669:\tlearn: 0.0375842\ttotal: 1m 9s\tremaining: 34.2s\n",
            "670:\tlearn: 0.0375437\ttotal: 1m 9s\tremaining: 34.1s\n",
            "671:\tlearn: 0.0375118\ttotal: 1m 9s\tremaining: 34s\n",
            "672:\tlearn: 0.0374880\ttotal: 1m 9s\tremaining: 33.8s\n",
            "673:\tlearn: 0.0374475\ttotal: 1m 9s\tremaining: 33.7s\n",
            "674:\tlearn: 0.0374093\ttotal: 1m 9s\tremaining: 33.6s\n",
            "675:\tlearn: 0.0373794\ttotal: 1m 9s\tremaining: 33.5s\n",
            "676:\tlearn: 0.0373614\ttotal: 1m 9s\tremaining: 33.4s\n",
            "677:\tlearn: 0.0373565\ttotal: 1m 10s\tremaining: 33.3s\n",
            "678:\tlearn: 0.0373222\ttotal: 1m 10s\tremaining: 33.2s\n",
            "679:\tlearn: 0.0373021\ttotal: 1m 10s\tremaining: 33.1s\n",
            "680:\tlearn: 0.0372742\ttotal: 1m 10s\tremaining: 32.9s\n",
            "681:\tlearn: 0.0372604\ttotal: 1m 10s\tremaining: 32.8s\n",
            "682:\tlearn: 0.0372390\ttotal: 1m 10s\tremaining: 32.7s\n",
            "683:\tlearn: 0.0372078\ttotal: 1m 10s\tremaining: 32.6s\n",
            "684:\tlearn: 0.0371891\ttotal: 1m 10s\tremaining: 32.5s\n",
            "685:\tlearn: 0.0371741\ttotal: 1m 10s\tremaining: 32.4s\n",
            "686:\tlearn: 0.0371509\ttotal: 1m 10s\tremaining: 32.3s\n",
            "687:\tlearn: 0.0371428\ttotal: 1m 10s\tremaining: 32.1s\n",
            "688:\tlearn: 0.0371264\ttotal: 1m 10s\tremaining: 32s\n",
            "689:\tlearn: 0.0371103\ttotal: 1m 11s\tremaining: 31.9s\n",
            "690:\tlearn: 0.0370912\ttotal: 1m 11s\tremaining: 31.8s\n",
            "691:\tlearn: 0.0370730\ttotal: 1m 11s\tremaining: 31.7s\n",
            "692:\tlearn: 0.0370436\ttotal: 1m 11s\tremaining: 31.6s\n",
            "693:\tlearn: 0.0370187\ttotal: 1m 11s\tremaining: 31.5s\n",
            "694:\tlearn: 0.0369951\ttotal: 1m 11s\tremaining: 31.4s\n",
            "695:\tlearn: 0.0369950\ttotal: 1m 11s\tremaining: 31.3s\n",
            "696:\tlearn: 0.0369880\ttotal: 1m 11s\tremaining: 31.1s\n",
            "697:\tlearn: 0.0369880\ttotal: 1m 11s\tremaining: 31s\n",
            "698:\tlearn: 0.0369650\ttotal: 1m 11s\tremaining: 30.9s\n",
            "699:\tlearn: 0.0369354\ttotal: 1m 11s\tremaining: 30.8s\n",
            "700:\tlearn: 0.0369243\ttotal: 1m 11s\tremaining: 30.7s\n",
            "701:\tlearn: 0.0369007\ttotal: 1m 12s\tremaining: 30.6s\n",
            "702:\tlearn: 0.0368757\ttotal: 1m 12s\tremaining: 30.5s\n",
            "703:\tlearn: 0.0368518\ttotal: 1m 12s\tremaining: 30.4s\n",
            "704:\tlearn: 0.0368236\ttotal: 1m 12s\tremaining: 30.2s\n",
            "705:\tlearn: 0.0368024\ttotal: 1m 12s\tremaining: 30.1s\n",
            "706:\tlearn: 0.0368023\ttotal: 1m 12s\tremaining: 30s\n",
            "707:\tlearn: 0.0367852\ttotal: 1m 12s\tremaining: 29.9s\n",
            "708:\tlearn: 0.0367353\ttotal: 1m 12s\tremaining: 29.8s\n",
            "709:\tlearn: 0.0367037\ttotal: 1m 12s\tremaining: 29.7s\n",
            "710:\tlearn: 0.0366624\ttotal: 1m 12s\tremaining: 29.6s\n",
            "711:\tlearn: 0.0366300\ttotal: 1m 12s\tremaining: 29.5s\n",
            "712:\tlearn: 0.0366160\ttotal: 1m 12s\tremaining: 29.4s\n",
            "713:\tlearn: 0.0365831\ttotal: 1m 13s\tremaining: 29.3s\n",
            "714:\tlearn: 0.0365532\ttotal: 1m 13s\tremaining: 29.2s\n",
            "715:\tlearn: 0.0365342\ttotal: 1m 13s\tremaining: 29.1s\n",
            "716:\tlearn: 0.0364936\ttotal: 1m 13s\tremaining: 28.9s\n",
            "717:\tlearn: 0.0364729\ttotal: 1m 13s\tremaining: 28.8s\n",
            "718:\tlearn: 0.0364383\ttotal: 1m 13s\tremaining: 28.7s\n",
            "719:\tlearn: 0.0364155\ttotal: 1m 13s\tremaining: 28.6s\n",
            "720:\tlearn: 0.0363920\ttotal: 1m 13s\tremaining: 28.5s\n",
            "721:\tlearn: 0.0363753\ttotal: 1m 13s\tremaining: 28.4s\n",
            "722:\tlearn: 0.0363607\ttotal: 1m 13s\tremaining: 28.3s\n",
            "723:\tlearn: 0.0363606\ttotal: 1m 13s\tremaining: 28.2s\n",
            "724:\tlearn: 0.0363450\ttotal: 1m 14s\tremaining: 28.1s\n",
            "725:\tlearn: 0.0363148\ttotal: 1m 14s\tremaining: 28s\n",
            "726:\tlearn: 0.0362955\ttotal: 1m 14s\tremaining: 27.9s\n",
            "727:\tlearn: 0.0362786\ttotal: 1m 14s\tremaining: 27.8s\n",
            "728:\tlearn: 0.0362683\ttotal: 1m 14s\tremaining: 27.6s\n",
            "729:\tlearn: 0.0362401\ttotal: 1m 14s\tremaining: 27.5s\n",
            "730:\tlearn: 0.0362203\ttotal: 1m 14s\tremaining: 27.4s\n",
            "731:\tlearn: 0.0361895\ttotal: 1m 14s\tremaining: 27.3s\n",
            "732:\tlearn: 0.0361725\ttotal: 1m 14s\tremaining: 27.2s\n",
            "733:\tlearn: 0.0361462\ttotal: 1m 14s\tremaining: 27.1s\n",
            "734:\tlearn: 0.0361295\ttotal: 1m 14s\tremaining: 27s\n",
            "735:\tlearn: 0.0361195\ttotal: 1m 14s\tremaining: 26.9s\n",
            "736:\tlearn: 0.0361077\ttotal: 1m 15s\tremaining: 26.8s\n",
            "737:\tlearn: 0.0360731\ttotal: 1m 15s\tremaining: 26.7s\n",
            "738:\tlearn: 0.0360386\ttotal: 1m 15s\tremaining: 26.6s\n",
            "739:\tlearn: 0.0360347\ttotal: 1m 15s\tremaining: 26.5s\n",
            "740:\tlearn: 0.0360072\ttotal: 1m 15s\tremaining: 26.4s\n",
            "741:\tlearn: 0.0359939\ttotal: 1m 15s\tremaining: 26.3s\n",
            "742:\tlearn: 0.0359686\ttotal: 1m 15s\tremaining: 26.1s\n",
            "743:\tlearn: 0.0359445\ttotal: 1m 15s\tremaining: 26s\n",
            "744:\tlearn: 0.0359281\ttotal: 1m 15s\tremaining: 25.9s\n",
            "745:\tlearn: 0.0359005\ttotal: 1m 15s\tremaining: 25.8s\n",
            "746:\tlearn: 0.0358651\ttotal: 1m 15s\tremaining: 25.7s\n",
            "747:\tlearn: 0.0358479\ttotal: 1m 16s\tremaining: 25.6s\n",
            "748:\tlearn: 0.0358231\ttotal: 1m 16s\tremaining: 25.5s\n",
            "749:\tlearn: 0.0357971\ttotal: 1m 16s\tremaining: 25.4s\n",
            "750:\tlearn: 0.0357867\ttotal: 1m 16s\tremaining: 25.3s\n",
            "751:\tlearn: 0.0357488\ttotal: 1m 16s\tremaining: 25.2s\n",
            "752:\tlearn: 0.0357186\ttotal: 1m 16s\tremaining: 25.1s\n",
            "753:\tlearn: 0.0357013\ttotal: 1m 16s\tremaining: 25s\n",
            "754:\tlearn: 0.0356727\ttotal: 1m 16s\tremaining: 24.8s\n",
            "755:\tlearn: 0.0356427\ttotal: 1m 16s\tremaining: 24.7s\n",
            "756:\tlearn: 0.0356056\ttotal: 1m 16s\tremaining: 24.6s\n",
            "757:\tlearn: 0.0355904\ttotal: 1m 16s\tremaining: 24.5s\n",
            "758:\tlearn: 0.0355755\ttotal: 1m 16s\tremaining: 24.4s\n",
            "759:\tlearn: 0.0355629\ttotal: 1m 17s\tremaining: 24.3s\n",
            "760:\tlearn: 0.0355391\ttotal: 1m 17s\tremaining: 24.2s\n",
            "761:\tlearn: 0.0355222\ttotal: 1m 17s\tremaining: 24.1s\n",
            "762:\tlearn: 0.0355023\ttotal: 1m 17s\tremaining: 24s\n",
            "763:\tlearn: 0.0354841\ttotal: 1m 17s\tremaining: 23.9s\n",
            "764:\tlearn: 0.0354744\ttotal: 1m 17s\tremaining: 23.8s\n",
            "765:\tlearn: 0.0354439\ttotal: 1m 17s\tremaining: 23.7s\n",
            "766:\tlearn: 0.0354304\ttotal: 1m 17s\tremaining: 23.6s\n",
            "767:\tlearn: 0.0354152\ttotal: 1m 17s\tremaining: 23.5s\n",
            "768:\tlearn: 0.0353890\ttotal: 1m 17s\tremaining: 23.4s\n",
            "769:\tlearn: 0.0353563\ttotal: 1m 17s\tremaining: 23.3s\n",
            "770:\tlearn: 0.0353211\ttotal: 1m 17s\tremaining: 23.1s\n",
            "771:\tlearn: 0.0352954\ttotal: 1m 18s\tremaining: 23s\n",
            "772:\tlearn: 0.0352818\ttotal: 1m 18s\tremaining: 22.9s\n",
            "773:\tlearn: 0.0352598\ttotal: 1m 18s\tremaining: 22.8s\n",
            "774:\tlearn: 0.0352365\ttotal: 1m 18s\tremaining: 22.7s\n",
            "775:\tlearn: 0.0352179\ttotal: 1m 18s\tremaining: 22.6s\n",
            "776:\tlearn: 0.0352013\ttotal: 1m 18s\tremaining: 22.5s\n",
            "777:\tlearn: 0.0351842\ttotal: 1m 18s\tremaining: 22.4s\n",
            "778:\tlearn: 0.0351677\ttotal: 1m 18s\tremaining: 22.3s\n",
            "779:\tlearn: 0.0351601\ttotal: 1m 18s\tremaining: 22.2s\n",
            "780:\tlearn: 0.0351386\ttotal: 1m 18s\tremaining: 22.1s\n",
            "781:\tlearn: 0.0351105\ttotal: 1m 18s\tremaining: 22s\n",
            "782:\tlearn: 0.0350884\ttotal: 1m 18s\tremaining: 21.9s\n",
            "783:\tlearn: 0.0350677\ttotal: 1m 19s\tremaining: 21.8s\n",
            "784:\tlearn: 0.0350561\ttotal: 1m 19s\tremaining: 21.7s\n",
            "785:\tlearn: 0.0350332\ttotal: 1m 19s\tremaining: 21.6s\n",
            "786:\tlearn: 0.0349994\ttotal: 1m 19s\tremaining: 21.5s\n",
            "787:\tlearn: 0.0349851\ttotal: 1m 19s\tremaining: 21.3s\n",
            "788:\tlearn: 0.0349655\ttotal: 1m 19s\tremaining: 21.2s\n",
            "789:\tlearn: 0.0349654\ttotal: 1m 19s\tremaining: 21.1s\n",
            "790:\tlearn: 0.0349551\ttotal: 1m 19s\tremaining: 21s\n",
            "791:\tlearn: 0.0349391\ttotal: 1m 19s\tremaining: 20.9s\n",
            "792:\tlearn: 0.0349293\ttotal: 1m 19s\tremaining: 20.8s\n",
            "793:\tlearn: 0.0348960\ttotal: 1m 19s\tremaining: 20.7s\n",
            "794:\tlearn: 0.0348788\ttotal: 1m 19s\tremaining: 20.6s\n",
            "795:\tlearn: 0.0348688\ttotal: 1m 20s\tremaining: 20.5s\n",
            "796:\tlearn: 0.0348422\ttotal: 1m 20s\tremaining: 20.4s\n",
            "797:\tlearn: 0.0348101\ttotal: 1m 20s\tremaining: 20.3s\n",
            "798:\tlearn: 0.0347774\ttotal: 1m 20s\tremaining: 20.2s\n",
            "799:\tlearn: 0.0347717\ttotal: 1m 20s\tremaining: 20.1s\n",
            "800:\tlearn: 0.0347504\ttotal: 1m 20s\tremaining: 20s\n",
            "801:\tlearn: 0.0347318\ttotal: 1m 20s\tremaining: 19.9s\n",
            "802:\tlearn: 0.0346982\ttotal: 1m 20s\tremaining: 19.8s\n",
            "803:\tlearn: 0.0346628\ttotal: 1m 20s\tremaining: 19.7s\n",
            "804:\tlearn: 0.0346517\ttotal: 1m 20s\tremaining: 19.6s\n",
            "805:\tlearn: 0.0346262\ttotal: 1m 20s\tremaining: 19.5s\n",
            "806:\tlearn: 0.0345992\ttotal: 1m 20s\tremaining: 19.4s\n",
            "807:\tlearn: 0.0345757\ttotal: 1m 21s\tremaining: 19.3s\n",
            "808:\tlearn: 0.0345571\ttotal: 1m 21s\tremaining: 19.2s\n",
            "809:\tlearn: 0.0345507\ttotal: 1m 21s\tremaining: 19.1s\n",
            "810:\tlearn: 0.0345329\ttotal: 1m 21s\tremaining: 18.9s\n",
            "811:\tlearn: 0.0345044\ttotal: 1m 21s\tremaining: 18.8s\n",
            "812:\tlearn: 0.0344947\ttotal: 1m 21s\tremaining: 18.7s\n",
            "813:\tlearn: 0.0344706\ttotal: 1m 21s\tremaining: 18.6s\n",
            "814:\tlearn: 0.0344369\ttotal: 1m 21s\tremaining: 18.5s\n",
            "815:\tlearn: 0.0344249\ttotal: 1m 21s\tremaining: 18.4s\n",
            "816:\tlearn: 0.0343909\ttotal: 1m 21s\tremaining: 18.3s\n",
            "817:\tlearn: 0.0343644\ttotal: 1m 21s\tremaining: 18.2s\n",
            "818:\tlearn: 0.0343496\ttotal: 1m 22s\tremaining: 18.1s\n",
            "819:\tlearn: 0.0343244\ttotal: 1m 22s\tremaining: 18s\n",
            "820:\tlearn: 0.0343049\ttotal: 1m 22s\tremaining: 17.9s\n",
            "821:\tlearn: 0.0342903\ttotal: 1m 22s\tremaining: 17.8s\n",
            "822:\tlearn: 0.0342477\ttotal: 1m 22s\tremaining: 17.7s\n",
            "823:\tlearn: 0.0342174\ttotal: 1m 22s\tremaining: 17.6s\n",
            "824:\tlearn: 0.0341785\ttotal: 1m 22s\tremaining: 17.5s\n",
            "825:\tlearn: 0.0341648\ttotal: 1m 22s\tremaining: 17.4s\n",
            "826:\tlearn: 0.0341585\ttotal: 1m 22s\tremaining: 17.3s\n",
            "827:\tlearn: 0.0341394\ttotal: 1m 22s\tremaining: 17.2s\n",
            "828:\tlearn: 0.0341073\ttotal: 1m 22s\tremaining: 17.1s\n",
            "829:\tlearn: 0.0340846\ttotal: 1m 22s\tremaining: 17s\n",
            "830:\tlearn: 0.0340701\ttotal: 1m 23s\tremaining: 16.9s\n",
            "831:\tlearn: 0.0340661\ttotal: 1m 23s\tremaining: 16.8s\n",
            "832:\tlearn: 0.0340472\ttotal: 1m 23s\tremaining: 16.7s\n",
            "833:\tlearn: 0.0340332\ttotal: 1m 23s\tremaining: 16.6s\n",
            "834:\tlearn: 0.0340096\ttotal: 1m 23s\tremaining: 16.5s\n",
            "835:\tlearn: 0.0339852\ttotal: 1m 23s\tremaining: 16.4s\n",
            "836:\tlearn: 0.0339587\ttotal: 1m 23s\tremaining: 16.3s\n",
            "837:\tlearn: 0.0339271\ttotal: 1m 23s\tremaining: 16.2s\n",
            "838:\tlearn: 0.0339109\ttotal: 1m 23s\tremaining: 16.1s\n",
            "839:\tlearn: 0.0338727\ttotal: 1m 23s\tremaining: 16s\n",
            "840:\tlearn: 0.0338392\ttotal: 1m 24s\tremaining: 15.9s\n",
            "841:\tlearn: 0.0338076\ttotal: 1m 24s\tremaining: 15.8s\n",
            "842:\tlearn: 0.0337912\ttotal: 1m 24s\tremaining: 15.7s\n",
            "843:\tlearn: 0.0337775\ttotal: 1m 24s\tremaining: 15.6s\n",
            "844:\tlearn: 0.0337461\ttotal: 1m 24s\tremaining: 15.5s\n",
            "845:\tlearn: 0.0337391\ttotal: 1m 24s\tremaining: 15.4s\n",
            "846:\tlearn: 0.0337222\ttotal: 1m 24s\tremaining: 15.3s\n",
            "847:\tlearn: 0.0336934\ttotal: 1m 24s\tremaining: 15.2s\n",
            "848:\tlearn: 0.0336650\ttotal: 1m 24s\tremaining: 15.1s\n",
            "849:\tlearn: 0.0336433\ttotal: 1m 24s\tremaining: 15s\n",
            "850:\tlearn: 0.0336277\ttotal: 1m 24s\tremaining: 14.9s\n",
            "851:\tlearn: 0.0336058\ttotal: 1m 24s\tremaining: 14.8s\n",
            "852:\tlearn: 0.0335981\ttotal: 1m 25s\tremaining: 14.7s\n",
            "853:\tlearn: 0.0335882\ttotal: 1m 25s\tremaining: 14.6s\n",
            "854:\tlearn: 0.0335679\ttotal: 1m 25s\tremaining: 14.4s\n",
            "855:\tlearn: 0.0335546\ttotal: 1m 25s\tremaining: 14.3s\n",
            "856:\tlearn: 0.0335377\ttotal: 1m 25s\tremaining: 14.2s\n",
            "857:\tlearn: 0.0335224\ttotal: 1m 25s\tremaining: 14.1s\n",
            "858:\tlearn: 0.0334930\ttotal: 1m 25s\tremaining: 14s\n",
            "859:\tlearn: 0.0334784\ttotal: 1m 25s\tremaining: 13.9s\n",
            "860:\tlearn: 0.0334644\ttotal: 1m 25s\tremaining: 13.8s\n",
            "861:\tlearn: 0.0334575\ttotal: 1m 25s\tremaining: 13.7s\n",
            "862:\tlearn: 0.0334328\ttotal: 1m 25s\tremaining: 13.6s\n",
            "863:\tlearn: 0.0334165\ttotal: 1m 25s\tremaining: 13.5s\n",
            "864:\tlearn: 0.0333915\ttotal: 1m 26s\tremaining: 13.4s\n",
            "865:\tlearn: 0.0333811\ttotal: 1m 26s\tremaining: 13.3s\n",
            "866:\tlearn: 0.0333652\ttotal: 1m 26s\tremaining: 13.2s\n",
            "867:\tlearn: 0.0333278\ttotal: 1m 26s\tremaining: 13.1s\n",
            "868:\tlearn: 0.0333118\ttotal: 1m 26s\tremaining: 13s\n",
            "869:\tlearn: 0.0333004\ttotal: 1m 26s\tremaining: 12.9s\n",
            "870:\tlearn: 0.0332734\ttotal: 1m 26s\tremaining: 12.8s\n",
            "871:\tlearn: 0.0332433\ttotal: 1m 26s\tremaining: 12.7s\n",
            "872:\tlearn: 0.0332247\ttotal: 1m 26s\tremaining: 12.6s\n",
            "873:\tlearn: 0.0331999\ttotal: 1m 26s\tremaining: 12.5s\n",
            "874:\tlearn: 0.0331915\ttotal: 1m 26s\tremaining: 12.4s\n",
            "875:\tlearn: 0.0331683\ttotal: 1m 27s\tremaining: 12.3s\n",
            "876:\tlearn: 0.0331537\ttotal: 1m 27s\tremaining: 12.2s\n",
            "877:\tlearn: 0.0331416\ttotal: 1m 27s\tremaining: 12.1s\n",
            "878:\tlearn: 0.0331231\ttotal: 1m 27s\tremaining: 12s\n",
            "879:\tlearn: 0.0330982\ttotal: 1m 27s\tremaining: 11.9s\n",
            "880:\tlearn: 0.0330728\ttotal: 1m 27s\tremaining: 11.8s\n",
            "881:\tlearn: 0.0330398\ttotal: 1m 27s\tremaining: 11.7s\n",
            "882:\tlearn: 0.0330011\ttotal: 1m 27s\tremaining: 11.6s\n",
            "883:\tlearn: 0.0329847\ttotal: 1m 27s\tremaining: 11.5s\n",
            "884:\tlearn: 0.0329579\ttotal: 1m 27s\tremaining: 11.4s\n",
            "885:\tlearn: 0.0329579\ttotal: 1m 27s\tremaining: 11.3s\n",
            "886:\tlearn: 0.0329578\ttotal: 1m 27s\tremaining: 11.2s\n",
            "887:\tlearn: 0.0329529\ttotal: 1m 28s\tremaining: 11.1s\n",
            "888:\tlearn: 0.0329388\ttotal: 1m 28s\tremaining: 11s\n",
            "889:\tlearn: 0.0329287\ttotal: 1m 28s\tremaining: 10.9s\n",
            "890:\tlearn: 0.0329099\ttotal: 1m 28s\tremaining: 10.8s\n",
            "891:\tlearn: 0.0328886\ttotal: 1m 28s\tremaining: 10.7s\n",
            "892:\tlearn: 0.0328737\ttotal: 1m 28s\tremaining: 10.6s\n",
            "893:\tlearn: 0.0328634\ttotal: 1m 28s\tremaining: 10.5s\n",
            "894:\tlearn: 0.0328559\ttotal: 1m 28s\tremaining: 10.4s\n",
            "895:\tlearn: 0.0328422\ttotal: 1m 28s\tremaining: 10.3s\n",
            "896:\tlearn: 0.0328184\ttotal: 1m 28s\tremaining: 10.2s\n",
            "897:\tlearn: 0.0328051\ttotal: 1m 28s\tremaining: 10.1s\n",
            "898:\tlearn: 0.0327836\ttotal: 1m 28s\tremaining: 9.99s\n",
            "899:\tlearn: 0.0327763\ttotal: 1m 29s\tremaining: 9.89s\n",
            "900:\tlearn: 0.0327569\ttotal: 1m 29s\tremaining: 9.79s\n",
            "901:\tlearn: 0.0327337\ttotal: 1m 29s\tremaining: 9.69s\n",
            "902:\tlearn: 0.0327081\ttotal: 1m 29s\tremaining: 9.59s\n",
            "903:\tlearn: 0.0326995\ttotal: 1m 29s\tremaining: 9.49s\n",
            "904:\tlearn: 0.0326687\ttotal: 1m 29s\tremaining: 9.39s\n",
            "905:\tlearn: 0.0326437\ttotal: 1m 29s\tremaining: 9.29s\n",
            "906:\tlearn: 0.0326284\ttotal: 1m 29s\tremaining: 9.19s\n",
            "907:\tlearn: 0.0326045\ttotal: 1m 29s\tremaining: 9.09s\n",
            "908:\tlearn: 0.0325832\ttotal: 1m 29s\tremaining: 8.99s\n",
            "909:\tlearn: 0.0325676\ttotal: 1m 29s\tremaining: 8.89s\n",
            "910:\tlearn: 0.0325642\ttotal: 1m 29s\tremaining: 8.79s\n",
            "911:\tlearn: 0.0325412\ttotal: 1m 30s\tremaining: 8.69s\n",
            "912:\tlearn: 0.0325120\ttotal: 1m 30s\tremaining: 8.59s\n",
            "913:\tlearn: 0.0324854\ttotal: 1m 30s\tremaining: 8.49s\n",
            "914:\tlearn: 0.0324794\ttotal: 1m 30s\tremaining: 8.39s\n",
            "915:\tlearn: 0.0324578\ttotal: 1m 30s\tremaining: 8.29s\n",
            "916:\tlearn: 0.0324449\ttotal: 1m 30s\tremaining: 8.19s\n",
            "917:\tlearn: 0.0324113\ttotal: 1m 30s\tremaining: 8.09s\n",
            "918:\tlearn: 0.0323922\ttotal: 1m 30s\tremaining: 7.99s\n",
            "919:\tlearn: 0.0323765\ttotal: 1m 30s\tremaining: 7.89s\n",
            "920:\tlearn: 0.0323517\ttotal: 1m 30s\tremaining: 7.79s\n",
            "921:\tlearn: 0.0323402\ttotal: 1m 30s\tremaining: 7.69s\n",
            "922:\tlearn: 0.0323250\ttotal: 1m 31s\tremaining: 7.59s\n",
            "923:\tlearn: 0.0323086\ttotal: 1m 31s\tremaining: 7.49s\n",
            "924:\tlearn: 0.0322854\ttotal: 1m 31s\tremaining: 7.39s\n",
            "925:\tlearn: 0.0322435\ttotal: 1m 31s\tremaining: 7.29s\n",
            "926:\tlearn: 0.0322214\ttotal: 1m 31s\tremaining: 7.19s\n",
            "927:\tlearn: 0.0321724\ttotal: 1m 31s\tremaining: 7.09s\n",
            "928:\tlearn: 0.0321557\ttotal: 1m 31s\tremaining: 7s\n",
            "929:\tlearn: 0.0321463\ttotal: 1m 31s\tremaining: 6.9s\n",
            "930:\tlearn: 0.0321356\ttotal: 1m 31s\tremaining: 6.8s\n",
            "931:\tlearn: 0.0321311\ttotal: 1m 31s\tremaining: 6.7s\n",
            "932:\tlearn: 0.0321104\ttotal: 1m 31s\tremaining: 6.6s\n",
            "933:\tlearn: 0.0320860\ttotal: 1m 31s\tremaining: 6.5s\n",
            "934:\tlearn: 0.0320761\ttotal: 1m 32s\tremaining: 6.4s\n",
            "935:\tlearn: 0.0320551\ttotal: 1m 32s\tremaining: 6.3s\n",
            "936:\tlearn: 0.0320403\ttotal: 1m 32s\tremaining: 6.2s\n",
            "937:\tlearn: 0.0320275\ttotal: 1m 32s\tremaining: 6.1s\n",
            "938:\tlearn: 0.0320100\ttotal: 1m 32s\tremaining: 6s\n",
            "939:\tlearn: 0.0319953\ttotal: 1m 32s\tremaining: 5.9s\n",
            "940:\tlearn: 0.0319685\ttotal: 1m 32s\tremaining: 5.8s\n",
            "941:\tlearn: 0.0319581\ttotal: 1m 32s\tremaining: 5.71s\n",
            "942:\tlearn: 0.0319369\ttotal: 1m 32s\tremaining: 5.61s\n",
            "943:\tlearn: 0.0319125\ttotal: 1m 32s\tremaining: 5.51s\n",
            "944:\tlearn: 0.0319041\ttotal: 1m 32s\tremaining: 5.41s\n",
            "945:\tlearn: 0.0318829\ttotal: 1m 33s\tremaining: 5.31s\n",
            "946:\tlearn: 0.0318694\ttotal: 1m 33s\tremaining: 5.21s\n",
            "947:\tlearn: 0.0318500\ttotal: 1m 33s\tremaining: 5.11s\n",
            "948:\tlearn: 0.0318314\ttotal: 1m 33s\tremaining: 5.01s\n",
            "949:\tlearn: 0.0318099\ttotal: 1m 33s\tremaining: 4.91s\n",
            "950:\tlearn: 0.0317868\ttotal: 1m 33s\tremaining: 4.82s\n",
            "951:\tlearn: 0.0317678\ttotal: 1m 33s\tremaining: 4.72s\n",
            "952:\tlearn: 0.0317530\ttotal: 1m 33s\tremaining: 4.62s\n",
            "953:\tlearn: 0.0317530\ttotal: 1m 33s\tremaining: 4.52s\n",
            "954:\tlearn: 0.0317466\ttotal: 1m 33s\tremaining: 4.42s\n",
            "955:\tlearn: 0.0317265\ttotal: 1m 33s\tremaining: 4.32s\n",
            "956:\tlearn: 0.0317168\ttotal: 1m 33s\tremaining: 4.22s\n",
            "957:\tlearn: 0.0317168\ttotal: 1m 34s\tremaining: 4.12s\n",
            "958:\tlearn: 0.0317104\ttotal: 1m 34s\tremaining: 4.02s\n",
            "959:\tlearn: 0.0316996\ttotal: 1m 34s\tremaining: 3.92s\n",
            "960:\tlearn: 0.0316996\ttotal: 1m 34s\tremaining: 3.83s\n",
            "961:\tlearn: 0.0316905\ttotal: 1m 34s\tremaining: 3.73s\n",
            "962:\tlearn: 0.0316739\ttotal: 1m 34s\tremaining: 3.63s\n",
            "963:\tlearn: 0.0316635\ttotal: 1m 34s\tremaining: 3.53s\n",
            "964:\tlearn: 0.0316318\ttotal: 1m 34s\tremaining: 3.43s\n",
            "965:\tlearn: 0.0316184\ttotal: 1m 34s\tremaining: 3.33s\n",
            "966:\tlearn: 0.0316001\ttotal: 1m 34s\tremaining: 3.23s\n",
            "967:\tlearn: 0.0315871\ttotal: 1m 34s\tremaining: 3.14s\n",
            "968:\tlearn: 0.0315583\ttotal: 1m 34s\tremaining: 3.04s\n",
            "969:\tlearn: 0.0315404\ttotal: 1m 35s\tremaining: 2.94s\n",
            "970:\tlearn: 0.0315326\ttotal: 1m 35s\tremaining: 2.84s\n",
            "971:\tlearn: 0.0315162\ttotal: 1m 35s\tremaining: 2.74s\n",
            "972:\tlearn: 0.0315047\ttotal: 1m 35s\tremaining: 2.65s\n",
            "973:\tlearn: 0.0314895\ttotal: 1m 35s\tremaining: 2.55s\n",
            "974:\tlearn: 0.0314633\ttotal: 1m 35s\tremaining: 2.45s\n",
            "975:\tlearn: 0.0314536\ttotal: 1m 35s\tremaining: 2.35s\n",
            "976:\tlearn: 0.0314325\ttotal: 1m 35s\tremaining: 2.25s\n",
            "977:\tlearn: 0.0314132\ttotal: 1m 35s\tremaining: 2.15s\n",
            "978:\tlearn: 0.0313976\ttotal: 1m 35s\tremaining: 2.06s\n",
            "979:\tlearn: 0.0313873\ttotal: 1m 35s\tremaining: 1.96s\n",
            "980:\tlearn: 0.0313590\ttotal: 1m 36s\tremaining: 1.86s\n",
            "981:\tlearn: 0.0313569\ttotal: 1m 36s\tremaining: 1.76s\n",
            "982:\tlearn: 0.0313480\ttotal: 1m 36s\tremaining: 1.66s\n",
            "983:\tlearn: 0.0313219\ttotal: 1m 36s\tremaining: 1.56s\n",
            "984:\tlearn: 0.0313045\ttotal: 1m 36s\tremaining: 1.47s\n",
            "985:\tlearn: 0.0312895\ttotal: 1m 36s\tremaining: 1.37s\n",
            "986:\tlearn: 0.0312608\ttotal: 1m 36s\tremaining: 1.27s\n",
            "987:\tlearn: 0.0312447\ttotal: 1m 36s\tremaining: 1.17s\n",
            "988:\tlearn: 0.0312344\ttotal: 1m 36s\tremaining: 1.07s\n",
            "989:\tlearn: 0.0312290\ttotal: 1m 36s\tremaining: 978ms\n",
            "990:\tlearn: 0.0312168\ttotal: 1m 36s\tremaining: 880ms\n",
            "991:\tlearn: 0.0311929\ttotal: 1m 37s\tremaining: 782ms\n",
            "992:\tlearn: 0.0311625\ttotal: 1m 37s\tremaining: 685ms\n",
            "993:\tlearn: 0.0311485\ttotal: 1m 37s\tremaining: 587ms\n",
            "994:\tlearn: 0.0311289\ttotal: 1m 37s\tremaining: 489ms\n",
            "995:\tlearn: 0.0311112\ttotal: 1m 37s\tremaining: 391ms\n",
            "996:\tlearn: 0.0310935\ttotal: 1m 37s\tremaining: 293ms\n",
            "997:\tlearn: 0.0310794\ttotal: 1m 37s\tremaining: 195ms\n",
            "998:\tlearn: 0.0310637\ttotal: 1m 37s\tremaining: 97.7ms\n",
            "999:\tlearn: 0.0310508\ttotal: 1m 37s\tremaining: 0us\n"
          ]
        },
        {
          "output_type": "execute_result",
          "data": {
            "text/plain": [
              "<catboost.core.CatBoostClassifier at 0x7f7504b83d00>"
            ]
          },
          "metadata": {},
          "execution_count": 42
        }
      ]
    },
    {
      "cell_type": "code",
      "source": [
        "test_size = len(test_data)\n",
        "vectorized_test_data = np.zeros((test_size, 72))\n",
        "\n",
        "for ind, img in enumerate(test_data):\n",
        "  img_vec = img.reshape(1, 72)\n",
        "  vectorized_test_data[ind, :] = img_vec\n",
        "\n",
        "predictions = cbc.predict(vectorized_test_data)"
      ],
      "metadata": {
        "id": "adlHpyQHlTLC"
      },
      "execution_count": 43,
      "outputs": []
    },
    {
      "cell_type": "code",
      "source": [
        "cb_accuracy = accuracy_score(test_tags, predictions)\n",
        "cb_roc = roc_auc_score(test_tags, predictions)\n",
        "cb_conf_matrix = confusion_matrix(test_tags, predictions) / len(test_data)\n",
        "\n",
        "print(\"Accuracy:\", cb_accuracy, \"\\nRoc:\", cb_roc, \"\\nConfusion matrix:\\n\", cb_conf_matrix)"
      ],
      "metadata": {
        "colab": {
          "base_uri": "https://localhost:8080/"
        },
        "id": "OhOkujtFnz8G",
        "outputId": "4d496c1d-dd71-419f-bd05-78ecab50af6c"
      },
      "execution_count": 44,
      "outputs": [
        {
          "output_type": "stream",
          "name": "stdout",
          "text": [
            "Accuracy: 0.985475 \n",
            "Roc: 0.9854772994709692 \n",
            "Confusion matrix:\n",
            " [[0.49585  0.003975]\n",
            " [0.01055  0.489625]]\n"
          ]
        }
      ]
    },
    {
      "cell_type": "code",
      "source": [
        "plt.figure(figsize=(15, 15))\n",
        "plt.tight_layout()\n",
        "\n",
        "for ind in range(10):\n",
        "  plt.subplot(2, 5,ind + 1)\n",
        "  plt.imshow(test_data[ind])\n",
        "  plt.xlabel('Predicted:{}, True:{}'.format(predictions[ind], test_tags[ind]), fontsize = 15)"
      ],
      "metadata": {
        "colab": {
          "base_uri": "https://localhost:8080/",
          "height": 800
        },
        "id": "du-jBsymzpeM",
        "outputId": "9d6d6000-d3b0-4e87-9c02-6b5be29fe635"
      },
      "execution_count": 54,
      "outputs": [
        {
          "output_type": "display_data",
          "data": {
            "text/plain": [
              "<Figure size 1080x1080 with 10 Axes>"
            ],
            "image/png": "[encoded data removed]"
          },
          "metadata": {
            "needs_background": "light"
          }
        }
      ]
    },
    {
      "cell_type": "code",
      "source": [
        "mismatches = 0\n",
        "max_mismatches = 9\n",
        "mismatched_imgs = []\n",
        "predicted = []\n",
        "true = []\n",
        "\n",
        "for ind, prediction in enumerate(predictions):\n",
        "  if prediction != test_tags[ind]:\n",
        "    mismatched_imgs.append(test_data[ind])\n",
        "    predicted.append(prediction)\n",
        "    true.append(test_tags[ind])\n",
        "    mismatches += 1\n",
        "    if mismatches > max_mismatches:\n",
        "      break;\n",
        "\n",
        "plt.figure(figsize=(15, 15))\n",
        "plt.tight_layout()\n",
        "for ind, img in enumerate(mismatched_imgs):\n",
        "  plt.subplot(2, 5, ind + 1)\n",
        "  plt.imshow(img)\n",
        "  plt.xlabel('Predicted:{}, True:{}'.format(predicted[ind], true[ind]), fontsize = 15)"
      ],
      "metadata": {
        "colab": {
          "base_uri": "https://localhost:8080/",
          "height": 800
        },
        "id": "AFafhwpVt471",
        "outputId": "d24ca9d1-7ade-49b7-8c07-91aab16ba6bd"
      },
      "execution_count": 59,
      "outputs": [
        {
          "output_type": "display_data",
          "data": {
            "text/plain": [
              "<Figure size 1080x1080 with 10 Axes>"
            ],
            "image/png": "[encoded data removed]"
          },
          "metadata": {
            "needs_background": "light"
          }
        }
      ]
    },
    {
      "cell_type": "markdown",
      "source": [
        "## Template matching"
      ],
      "metadata": {
        "id": "G9dlNc85ey1G"
      }
    },
    {
      "cell_type": "code",
      "source": [
        "template1 = np.zeros((4,4))\n",
        "template2 = np.zeros((4,4))\n",
        "numer_of_imgs = 90\n",
        "\n",
        "for i in range(numer_of_imgs):\n",
        "    template1 += positron_second_layer_imgs[i][4:8, 1:5]\n",
        "template_pos = np.float32(template1 / numer_of_imgs)\n",
        "\n",
        "for i in range(numer_of_imgs):\n",
        "    template2 += pion_second_layer_imgs[i][4:8, 1:5]\n",
        "template_pion = np.float32(template2 / numer_of_imgs)\n",
        "\n",
        "def template_match_classification(img):\n",
        "    img = np.float32(img)\n",
        "    tableHitPos = cv.matchTemplate(template_pos, img, method=cv.TM_CCOEFF_NORMED)\n",
        "    tableHitPion = cv.matchTemplate(template_pion, img, method=cv.TM_CCOEFF_NORMED)\n",
        "    (min_valPos, max_valPos, minLocPos, maxLocPos) = cv.minMaxLoc(tableHitPos)\n",
        "    (min_valPion, max_valPion, minLocPion, maxLocPion) = cv.minMaxLoc(tableHitPion)\n",
        "    if max_valPos > max_valPion:\n",
        "        return 1\n",
        "    else:\n",
        "        return 0\n",
        "\n",
        "tm_accuracy, tm_roc, tm_conf_matrix = evaluate_normalized(template_match_classification)\n",
        "print(\"Accuracy:\", tm_accuracy, \"\\nRoc:\", tm_roc, \"\\nConfusion matrix:\\n\", tm_conf_matrix)"
      ],
      "metadata": {
        "colab": {
          "base_uri": "https://localhost:8080/"
        },
        "id": "RKx10Nqhe2Qt",
        "outputId": "262c23d4-ba2f-4434-c79d-23cd2c264782"
      },
      "execution_count": 39,
      "outputs": [
        {
          "output_type": "stream",
          "name": "stdout",
          "text": [
            "Accuracy: 0.531725 \n",
            "Roc: 0.5316813938809708 \n",
            "Confusion matrix:\n",
            " [[0.203475 0.29635 ]\n",
            " [0.171925 0.32825 ]]\n"
          ]
        }
      ]
    }
  ],
  "metadata": {
    "kernelspec": {
      "display_name": "Python 3",
      "language": "python",
      "name": "python3"
    },
    "language_info": {
      "codemirror_mode": {
        "name": "ipython",
        "version": 3
      },
      "file_extension": ".py",
      "mimetype": "text/x-python",
      "name": "python",
      "nbconvert_exporter": "python",
      "pygments_lexer": "ipython3",
      "version": "3.8.10 (default, Nov 14 2022, 12:59:47) \n[GCC 9.4.0]"
    },
    "orig_nbformat": 4,
    "vscode": {
      "interpreter": {
        "hash": "916dbcbb3f70747c44a77c7bcd40155683ae19c65e1c03b4aa3499c5328201f1"
      }
    },
    "colab": {
      "provenance": []
    },
    "gpuClass": "standard"
  },
  "nbformat": 4,
  "nbformat_minor": 0
}